{
  "nbformat": 4,
  "nbformat_minor": 0,
  "metadata": {
    "colab": {
      "provenance": [],
      "gpuType": "T4",
      "authorship_tag": "ABX9TyP4556Ez9YkkD99/1UE8bP6",
      "include_colab_link": true
    },
    "kernelspec": {
      "name": "python3",
      "display_name": "Python 3"
    },
    "language_info": {
      "name": "python"
    },
    "accelerator": "GPU"
  },
  "cells": [
    {
      "cell_type": "markdown",
      "metadata": {
        "id": "view-in-github",
        "colab_type": "text"
      },
      "source": [
        "<a href=\"https://colab.research.google.com/github/midnightripper/IDEC/blob/main/Copy_of_Copy_of_idec2.ipynb\" target=\"_parent\"><img src=\"https://colab.research.google.com/assets/colab-badge.svg\" alt=\"Open In Colab\"/></a>"
      ]
    },
    {
      "cell_type": "code",
      "source": [
        "from google.colab import drive\n",
        "drive.mount('/content/drive')"
      ],
      "metadata": {
        "colab": {
          "base_uri": "https://localhost:8080/"
        },
        "id": "PCYD333h3l0p",
        "outputId": "760940d8-5a3b-4e6f-87ff-ea728bf75cdb"
      },
      "execution_count": null,
      "outputs": [
        {
          "output_type": "stream",
          "name": "stdout",
          "text": [
            "Mounted at /content/drive\n"
          ]
        }
      ]
    },
    {
      "cell_type": "code",
      "source": [
        "import numpy as np\n",
        "import scipy.io\n",
        "import pandas as pd\n",
        "import tensorflow as tf\n",
        "from tensorflow import keras\n",
        "from sklearn.preprocessing import StandardScaler\n",
        "from keras import backend as K\n",
        "from keras.layers import Layer, InputSpec\n",
        "import numpy as np\n",
        "from keras.layers import Dense, Input\n",
        "from keras.models import Model\n",
        "from keras.optimizers import SGD\n",
        "from sklearn.cluster import KMeans\n",
        "from sklearn.metrics import normalized_mutual_info_score, adjusted_rand_score\n",
        "from scipy.optimize import linear_sum_assignment\n",
        "import csv, os\n",
        "\n",
        "def dataloader(path):\n",
        "    data = scipy.io.loadmat(path)\n",
        "    AF = data['AF']\n",
        "    modified_rows1 = AF[:-2]\n",
        "    last_rows1 = AF[-2:]\n",
        "    CF = data['CF']\n",
        "    concatenated_array = np.concatenate((modified_rows1, CF,last_rows1), axis=0)\n",
        "    new=concatenated_array\n",
        "    u, count = np.unique(new[-1], return_counts=True)\n",
        "    a = u[np.logical_or(count < 2, count > 2)]\n",
        "    c = new[:, np.isin(new[-1], a, invert=True)]\n",
        "    x = c[0:-2]; y = c[-2]; w = c[-1];\n",
        "    return x.T, y.T, w.T, data['CF_info']\n",
        "\n",
        "def normalization(feats):\n",
        "    df = pd.DataFrame(feats)\n",
        "    scaler = StandardScaler()\n",
        "    x_new = pd.DataFrame(scaler.fit_transform(df), columns=df.columns)\n",
        "    return x_new"
      ],
      "metadata": {
        "id": "FQTDkISq4BC3"
      },
      "execution_count": null,
      "outputs": []
    },
    {
      "cell_type": "code",
      "source": [
        "import argparse\n",
        "original_dim = 38\n",
        "\n",
        "# train_path = filee; test_path = filee.replace('train','test')\n",
        "train_path='/content/drive/MyDrive/finalData/TypicalFA_comb1/GER_train_fisher-2000_FA_GT_ESTphnTrans_estStress.mat'\n",
        "test_path='/content/drive/MyDrive/finalData/TypicalFA_comb1/GER_test_fisher-2000_FA_GT_ESTphnTrans_estStress.mat'\n",
        "x, y, wtrain1, info_train1 = dataloader(train_path);\n",
        "xtest, ytest, wtest1, info_test1 = dataloader(test_path);\n",
        "xtest= normalization(xtest)\n",
        "x= normalization(x)"
      ],
      "metadata": {
        "id": "jaJgtEmjmV2J"
      },
      "execution_count": null,
      "outputs": []
    },
    {
      "cell_type": "code",
      "source": [
        "from sklearn.metrics.cluster import adjusted_rand_score, normalized_mutual_info_score\n",
        "\n",
        "def calculate_nmi(true_labels, predicted_labels):\n",
        "    nmi = normalized_mutual_info_score(true_labels, predicted_labels)\n",
        "    return nmi\n",
        "\n",
        "def calculate_ari(true_labels, predicted_labels):\n",
        "    ari = adjusted_rand_score(true_labels, predicted_labels)\n",
        "    return ari"
      ],
      "metadata": {
        "id": "Ub7hggTfA36F"
      },
      "execution_count": null,
      "outputs": []
    },
    {
      "cell_type": "code",
      "source": [
        "def cluster_acc(y_true, y_pred):\n",
        "    y_true = y_true.astype(np.int64)\n",
        "    assert y_pred.size == y_true.size\n",
        "    D = max(y_pred.max(), y_true.max()) + 1\n",
        "    w = np.zeros((D, D), dtype=np.int64)\n",
        "    for i in range(y_pred.size):\n",
        "        w[y_pred[i], y_true[i]] += 1\n",
        "    _, col_ind = linear_sum_assignment(w.max() - w)\n",
        "    return sum([w[i, j] for i, j in zip(range(w.shape[0]), col_ind)]) * 1.0 / y_pred.size"
      ],
      "metadata": {
        "id": "iMKlY-FHEC81"
      },
      "execution_count": null,
      "outputs": []
    },
    {
      "cell_type": "code",
      "source": [
        "def autoencoder(dims, act='relu'):\n",
        "    n_stacks = len(dims) - 1\n",
        "    x = Input(shape=(dims[0],), name='input')\n",
        "    h = x\n",
        "    for i in range(n_stacks-1):\n",
        "        h = Dense(dims[i + 1], activation=act, name='encoder_%d' % i)(h)\n",
        "    h = Dense(dims[-1], name='encoder_%d' % (n_stacks - 1))(h)\n",
        "    for i in range(n_stacks-1, 0, -1):\n",
        "        h = Dense(dims[i], activation=act, name='decoder_%d' % i)(h)\n",
        "    h = Dense(dims[0], name='decoder_0')(h)\n",
        "    return Model(inputs=x, outputs=h)\n",
        "\n",
        "# Train the autoencoder\n",
        "autoencoder = autoencoder([x.shape[-1], 500, 500, 2000, 10])  # Adjust dimensions as needed\n",
        "autoencoder.compile(optimizer='adam', loss='mse')\n",
        "autoencoder.fit(x, x, batch_size=256, epochs=50)  # Adjust batch size and epochs as needed\n",
        "# Save the autoencoder weights\n",
        "autoencoder.save_weights('autoencoder_weights.h5')"
      ],
      "metadata": {
        "colab": {
          "base_uri": "https://localhost:8080/"
        },
        "id": "KsO2N630D_Cd",
        "outputId": "f0d6f303-ceb6-4d8c-92eb-bb0b33ae6a37"
      },
      "execution_count": null,
      "outputs": [
        {
          "output_type": "stream",
          "name": "stdout",
          "text": [
            "Epoch 1/50\n",
            "16/16 [==============================] - 8s 6ms/step - loss: 0.7531\n",
            "Epoch 2/50\n",
            "16/16 [==============================] - 0s 7ms/step - loss: 0.4535\n",
            "Epoch 3/50\n",
            "16/16 [==============================] - 0s 6ms/step - loss: 0.2962\n",
            "Epoch 4/50\n",
            "16/16 [==============================] - 0s 6ms/step - loss: 0.2033\n",
            "Epoch 5/50\n",
            "16/16 [==============================] - 0s 6ms/step - loss: 0.1492\n",
            "Epoch 6/50\n",
            "16/16 [==============================] - 0s 6ms/step - loss: 0.1183\n",
            "Epoch 7/50\n",
            "16/16 [==============================] - 0s 7ms/step - loss: 0.0993\n",
            "Epoch 8/50\n",
            "16/16 [==============================] - 0s 7ms/step - loss: 0.0846\n",
            "Epoch 9/50\n",
            "16/16 [==============================] - 0s 6ms/step - loss: 0.0761\n",
            "Epoch 10/50\n",
            "16/16 [==============================] - 0s 6ms/step - loss: 0.0678\n",
            "Epoch 11/50\n",
            "16/16 [==============================] - 0s 6ms/step - loss: 0.0636\n",
            "Epoch 12/50\n",
            "16/16 [==============================] - 0s 6ms/step - loss: 0.0568\n",
            "Epoch 13/50\n",
            "16/16 [==============================] - 0s 7ms/step - loss: 0.0530\n",
            "Epoch 14/50\n",
            "16/16 [==============================] - 0s 6ms/step - loss: 0.0504\n",
            "Epoch 15/50\n",
            "16/16 [==============================] - 0s 6ms/step - loss: 0.0491\n",
            "Epoch 16/50\n",
            "16/16 [==============================] - 0s 6ms/step - loss: 0.0462\n",
            "Epoch 17/50\n",
            "16/16 [==============================] - 0s 6ms/step - loss: 0.0436\n",
            "Epoch 18/50\n",
            "16/16 [==============================] - 0s 6ms/step - loss: 0.0415\n",
            "Epoch 19/50\n",
            "16/16 [==============================] - 0s 6ms/step - loss: 0.0394\n",
            "Epoch 20/50\n",
            "16/16 [==============================] - 0s 6ms/step - loss: 0.0388\n",
            "Epoch 21/50\n",
            "16/16 [==============================] - 0s 6ms/step - loss: 0.0351\n",
            "Epoch 22/50\n",
            "16/16 [==============================] - 0s 7ms/step - loss: 0.0324\n",
            "Epoch 23/50\n",
            "16/16 [==============================] - 0s 6ms/step - loss: 0.0310\n",
            "Epoch 24/50\n",
            "16/16 [==============================] - 0s 6ms/step - loss: 0.0301\n",
            "Epoch 25/50\n",
            "16/16 [==============================] - 0s 6ms/step - loss: 0.0288\n",
            "Epoch 26/50\n",
            "16/16 [==============================] - 0s 6ms/step - loss: 0.0286\n",
            "Epoch 27/50\n",
            "16/16 [==============================] - 0s 6ms/step - loss: 0.0286\n",
            "Epoch 28/50\n",
            "16/16 [==============================] - 0s 7ms/step - loss: 0.0292\n",
            "Epoch 29/50\n",
            "16/16 [==============================] - 0s 6ms/step - loss: 0.0272\n",
            "Epoch 30/50\n",
            "16/16 [==============================] - 0s 6ms/step - loss: 0.0255\n",
            "Epoch 31/50\n",
            "16/16 [==============================] - 0s 6ms/step - loss: 0.0249\n",
            "Epoch 32/50\n",
            "16/16 [==============================] - 0s 7ms/step - loss: 0.0248\n",
            "Epoch 33/50\n",
            "16/16 [==============================] - 0s 6ms/step - loss: 0.0253\n",
            "Epoch 34/50\n",
            "16/16 [==============================] - 0s 6ms/step - loss: 0.0243\n",
            "Epoch 35/50\n",
            "16/16 [==============================] - 0s 7ms/step - loss: 0.0234\n",
            "Epoch 36/50\n",
            "16/16 [==============================] - 0s 5ms/step - loss: 0.0218\n",
            "Epoch 37/50\n",
            "16/16 [==============================] - 0s 5ms/step - loss: 0.0214\n",
            "Epoch 38/50\n",
            "16/16 [==============================] - 0s 5ms/step - loss: 0.0202\n",
            "Epoch 39/50\n",
            "16/16 [==============================] - 0s 5ms/step - loss: 0.0189\n",
            "Epoch 40/50\n",
            "16/16 [==============================] - 0s 5ms/step - loss: 0.0185\n",
            "Epoch 41/50\n",
            "16/16 [==============================] - 0s 5ms/step - loss: 0.0187\n",
            "Epoch 42/50\n",
            "16/16 [==============================] - 0s 4ms/step - loss: 0.0186\n",
            "Epoch 43/50\n",
            "16/16 [==============================] - 0s 5ms/step - loss: 0.0193\n",
            "Epoch 44/50\n",
            "16/16 [==============================] - 0s 5ms/step - loss: 0.0189\n",
            "Epoch 45/50\n",
            "16/16 [==============================] - 0s 4ms/step - loss: 0.0186\n",
            "Epoch 46/50\n",
            "16/16 [==============================] - 0s 4ms/step - loss: 0.0180\n",
            "Epoch 47/50\n",
            "16/16 [==============================] - 0s 4ms/step - loss: 0.0172\n",
            "Epoch 48/50\n",
            "16/16 [==============================] - 0s 6ms/step - loss: 0.0177\n",
            "Epoch 49/50\n",
            "16/16 [==============================] - 0s 4ms/step - loss: 0.0178\n",
            "Epoch 50/50\n",
            "16/16 [==============================] - 0s 5ms/step - loss: 0.0165\n"
          ]
        }
      ]
    },
    {
      "cell_type": "code",
      "source": [
        "from keras.models import Model\n",
        "from keras.layers import Input, Dense, Dropout\n",
        "from sklearn.metrics import normalized_mutual_info_score, adjusted_rand_score\n",
        "import numpy as np\n",
        "from scipy.optimize import linear_sum_assignment\n",
        "\n",
        "def autoencoder(dims, act='relu', dropout_rate=0.2):\n",
        "    n_stacks = len(dims) - 1\n",
        "    x = Input(shape=(dims[0],), name='input')\n",
        "    h = x\n",
        "    for i in range(n_stacks-1):\n",
        "        h = Dense(dims[i + 1], activation=act, name='encoder_%d' % i)(h)\n",
        "        h = Dropout(dropout_rate)(h)  # Add Dropout layer after each Dense layer\n",
        "    h = Dense(dims[-1], name='encoder_%d' % (n_stacks - 1))(h)\n",
        "    for i in range(n_stacks-1, 0, -1):\n",
        "        h = Dense(dims[i], activation=act, name='decoder_%d' % i)(h)\n",
        "        h = Dropout(dropout_rate)(h)  # Add Dropout layer after each Dense layer\n",
        "    h = Dense(dims[0], name='decoder_0')(h)\n",
        "    return Model(inputs=x, outputs=h)\n",
        "\n",
        "# Assuming you have the true cluster labels for x_train in y_true\n",
        "\n",
        "# Assuming you have the autoencoder model and weights already trained\n",
        "autoencoder = autoencoder([x.shape[-1], 500, 500, 2000, 10], dropout_rate=0.2)\n",
        "autoencoder.compile(optimizer='adam', loss='mse')\n",
        "autoencoder.fit(x, x, batch_size=256, epochs=50,verbose=0)  # Adjust batch size and epochs as needed\n",
        "\n",
        "# Encode the data and predict the cluster labels using the autoencoder\n",
        "encoded_data = autoencoder.predict(x)\n",
        "y_pred = np.argmax(encoded_data, axis=1)\n",
        "\n",
        "# Calculate NMI and ARI scores\n",
        "nmi_score = normalized_mutual_info_score(y, y_pred)\n",
        "ari_score = adjusted_rand_score(y, y_pred)\n",
        "\n",
        "print(\"Normalized Mutual Information (NMI):\", nmi_score)\n",
        "print(\"Adjusted Rand Index (ARI):\", ari_score)\n"
      ],
      "metadata": {
        "colab": {
          "base_uri": "https://localhost:8080/"
        },
        "id": "1I4N5qJ-HXqg",
        "outputId": "2b65252f-4e7f-4980-9e0b-cfdc31ba3ff7"
      },
      "execution_count": null,
      "outputs": [
        {
          "output_type": "stream",
          "name": "stdout",
          "text": [
            "124/124 [==============================] - 0s 2ms/step\n",
            "Normalized Mutual Information (NMI): 0.037055923162075496\n",
            "Adjusted Rand Index (ARI): 0.00852128560288435\n"
          ]
        }
      ]
    },
    {
      "cell_type": "code",
      "source": [
        "from sklearn.decomposition import PCA\n",
        "\n",
        "# Assuming you have trained the autoencoder and have the encoded_data\n",
        "# encoded_data is the output of the encoder part of the autoencoder\n",
        "encoded_data = autoencoder.predict(x)\n",
        "\n",
        "# Apply PCA for dimensionality reduction to 2D or 3D\n",
        "pca = PCA(n_components=2)  # Set n_components=3 for 3D visualization\n",
        "encoded_pca = pca.fit_transform(encoded_data)\n",
        "\n",
        "# Visualize the encoded data using matplotlib or any other plotting library\n",
        "import matplotlib.pyplot as plt\n",
        "\n",
        "plt.scatter(encoded_pca[:, 0], encoded_pca[:, 1])\n",
        "plt.title('Autoencoder Visualization using PCA')\n",
        "plt.xlabel('PCA Component 1')\n",
        "plt.ylabel('PCA Component 2')\n",
        "plt.show()\n"
      ],
      "metadata": {
        "colab": {
          "base_uri": "https://localhost:8080/",
          "height": 489
        },
        "id": "tex9WwBQqGB3",
        "outputId": "c7f75163-ab3c-41f8-d235-30f8b220f77b"
      },
      "execution_count": null,
      "outputs": [
        {
          "output_type": "stream",
          "name": "stdout",
          "text": [
            "124/124 [==============================] - 0s 2ms/step\n"
          ]
        },
        {
          "output_type": "display_data",
          "data": {
            "text/plain": [
              "<Figure size 640x480 with 1 Axes>"
            ],
            "image/png": "[encoded data removed]"
          },
          "metadata": {}
        }
      ]
    },
    {
      "cell_type": "code",
      "source": [
        "from sklearn.decomposition import PCA\n",
        "\n",
        "# Assuming you have trained the autoencoder and have the encoded_data\n",
        "# encoded_data is the output of the encoder part of the autoencoder\n",
        "encoded_data = x\n",
        "\n",
        "# Apply PCA for dimensionality reduction to 2D or 3D\n",
        "pca = PCA(n_components=2)  # Set n_components=3 for 3D visualization\n",
        "encoded_pca = pca.fit_transform(encoded_data)\n",
        "\n",
        "# Visualize the encoded data using matplotlib or any other plotting library\n",
        "import matplotlib.pyplot as plt\n",
        "\n",
        "plt.scatter(encoded_pca[:, 0], encoded_pca[:, 1])\n",
        "plt.title('Autoencoder Visualization using PCA')\n",
        "plt.xlabel('PCA Component 1')\n",
        "plt.ylabel('PCA Component 2')\n",
        "plt.show()\n"
      ],
      "metadata": {
        "colab": {
          "base_uri": "https://localhost:8080/",
          "height": 472
        },
        "id": "YNeqdkpTqLzL",
        "outputId": "326c4246-a91a-4ce6-f90b-59a4b64e80b3"
      },
      "execution_count": null,
      "outputs": [
        {
          "output_type": "display_data",
          "data": {
            "text/plain": [
              "<Figure size 640x480 with 1 Axes>"
            ],
            "image/png": "[encoded data removed]"
          },
          "metadata": {}
        }
      ]
    },
    {
      "cell_type": "code",
      "source": [
        "def autoencoder(dims, act='relu', dropout_rate=0.2):\n",
        "    n_stacks = len(dims) - 1\n",
        "    x = Input(shape=(dims[0],), name='input')\n",
        "    h = x\n",
        "    for i in range(n_stacks-1):\n",
        "        h = Dense(dims[i + 1], activation=act, name='encoder_%d' % i)(h)\n",
        "        h = Dropout(dropout_rate)(h)  # Add Dropout layer after each Dense layer\n",
        "    h = Dense(dims[-1], name='encoder_%d' % (n_stacks - 1))(h)\n",
        "    for i in range(n_stacks-1, 0, -1):\n",
        "        h = Dense(dims[i], activation=act, name='decoder_%d' % i)(h)\n",
        "        h = Dropout(dropout_rate)(h)  # Add Dropout layer after each Dense layer\n",
        "    h = Dense(dims[0], name='decoder_0')(h)\n",
        "    return Model(inputs=x, outputs=h)\n",
        "\n",
        "# Assuming you have the true cluster labels for x_train in y_true\n",
        "\n",
        "# Assuming you have the autoencoder model and weights already trained\n",
        "autoencoder = autoencoder([x.shape[-1], 200, 200, 500, 10], dropout_rate=0.2)\n",
        "autoencoder.compile(optimizer='adam', loss='mse')\n",
        "autoencoder.fit(x, x, batch_size=256, epochs=50,verbose=0)  # Adjust batch size and epochs as needed\n",
        "\n",
        "# Encode the data and predict the cluster labels using the autoencoder\n",
        "encoded_data = autoencoder.predict(x)\n",
        "y_pred = np.argmax(encoded_data, axis=1)\n",
        "\n",
        "# Calculate NMI and ARI scores\n",
        "nmi_score = normalized_mutual_info_score(y, y_pred)\n",
        "ari_score = adjusted_rand_score(y, y_pred)\n",
        "\n",
        "print(\"Normalized Mutual Information (NMI):\", nmi_score)\n",
        "print(\"Adjusted Rand Index (ARI):\", ari_score)\n"
      ],
      "metadata": {
        "colab": {
          "base_uri": "https://localhost:8080/",
          "height": 380
        },
        "id": "UjFEQNVDIcer",
        "outputId": "5b402b64-a95e-47c2-db96-3250c380953a"
      },
      "execution_count": null,
      "outputs": [
        {
          "output_type": "error",
          "ename": "KeyboardInterrupt",
          "evalue": "ignored",
          "traceback": [
            "\u001b[0;31m---------------------------------------------------------------------------\u001b[0m",
            "\u001b[0;31mKeyboardInterrupt\u001b[0m                         Traceback (most recent call last)",
            "\u001b[0;32m<ipython-input-12-cea9d5d80778>\u001b[0m in \u001b[0;36m<cell line: 20>\u001b[0;34m()\u001b[0m\n\u001b[1;32m     18\u001b[0m \u001b[0mautoencoder\u001b[0m \u001b[0;34m=\u001b[0m \u001b[0mautoencoder\u001b[0m\u001b[0;34m(\u001b[0m\u001b[0;34m[\u001b[0m\u001b[0mx\u001b[0m\u001b[0;34m.\u001b[0m\u001b[0mshape\u001b[0m\u001b[0;34m[\u001b[0m\u001b[0;34m-\u001b[0m\u001b[0;36m1\u001b[0m\u001b[0;34m]\u001b[0m\u001b[0;34m,\u001b[0m \u001b[0;36m200\u001b[0m\u001b[0;34m,\u001b[0m \u001b[0;36m200\u001b[0m\u001b[0;34m,\u001b[0m \u001b[0;36m500\u001b[0m\u001b[0;34m,\u001b[0m \u001b[0;36m10\u001b[0m\u001b[0;34m]\u001b[0m\u001b[0;34m,\u001b[0m \u001b[0mdropout_rate\u001b[0m\u001b[0;34m=\u001b[0m\u001b[0;36m0.2\u001b[0m\u001b[0;34m)\u001b[0m\u001b[0;34m\u001b[0m\u001b[0;34m\u001b[0m\u001b[0m\n\u001b[1;32m     19\u001b[0m \u001b[0mautoencoder\u001b[0m\u001b[0;34m.\u001b[0m\u001b[0mcompile\u001b[0m\u001b[0;34m(\u001b[0m\u001b[0moptimizer\u001b[0m\u001b[0;34m=\u001b[0m\u001b[0;34m'adam'\u001b[0m\u001b[0;34m,\u001b[0m \u001b[0mloss\u001b[0m\u001b[0;34m=\u001b[0m\u001b[0;34m'mse'\u001b[0m\u001b[0;34m)\u001b[0m\u001b[0;34m\u001b[0m\u001b[0;34m\u001b[0m\u001b[0m\n\u001b[0;32m---> 20\u001b[0;31m \u001b[0mautoencoder\u001b[0m\u001b[0;34m.\u001b[0m\u001b[0mfit\u001b[0m\u001b[0;34m(\u001b[0m\u001b[0mx\u001b[0m\u001b[0;34m,\u001b[0m \u001b[0mx\u001b[0m\u001b[0;34m,\u001b[0m \u001b[0mbatch_size\u001b[0m\u001b[0;34m=\u001b[0m\u001b[0;36m256\u001b[0m\u001b[0;34m,\u001b[0m \u001b[0mepochs\u001b[0m\u001b[0;34m=\u001b[0m\u001b[0;36m50\u001b[0m\u001b[0;34m,\u001b[0m\u001b[0mverbose\u001b[0m\u001b[0;34m=\u001b[0m\u001b[0;36m0\u001b[0m\u001b[0;34m)\u001b[0m  \u001b[0;31m# Adjust batch size and epochs as needed\u001b[0m\u001b[0;34m\u001b[0m\u001b[0;34m\u001b[0m\u001b[0m\n\u001b[0m\u001b[1;32m     21\u001b[0m \u001b[0;34m\u001b[0m\u001b[0m\n\u001b[1;32m     22\u001b[0m \u001b[0;31m# Encode the data and predict the cluster labels using the autoencoder\u001b[0m\u001b[0;34m\u001b[0m\u001b[0;34m\u001b[0m\u001b[0m\n",
            "\u001b[0;32m/usr/local/lib/python3.10/dist-packages/keras/utils/traceback_utils.py\u001b[0m in \u001b[0;36merror_handler\u001b[0;34m(*args, **kwargs)\u001b[0m\n\u001b[1;32m     63\u001b[0m         \u001b[0mfiltered_tb\u001b[0m \u001b[0;34m=\u001b[0m \u001b[0;32mNone\u001b[0m\u001b[0;34m\u001b[0m\u001b[0;34m\u001b[0m\u001b[0m\n\u001b[1;32m     64\u001b[0m         \u001b[0;32mtry\u001b[0m\u001b[0;34m:\u001b[0m\u001b[0;34m\u001b[0m\u001b[0;34m\u001b[0m\u001b[0m\n\u001b[0;32m---> 65\u001b[0;31m             \u001b[0;32mreturn\u001b[0m \u001b[0mfn\u001b[0m\u001b[0;34m(\u001b[0m\u001b[0;34m*\u001b[0m\u001b[0margs\u001b[0m\u001b[0;34m,\u001b[0m \u001b[0;34m**\u001b[0m\u001b[0mkwargs\u001b[0m\u001b[0;34m)\u001b[0m\u001b[0;34m\u001b[0m\u001b[0;34m\u001b[0m\u001b[0m\n\u001b[0m\u001b[1;32m     66\u001b[0m         \u001b[0;32mexcept\u001b[0m \u001b[0mException\u001b[0m \u001b[0;32mas\u001b[0m \u001b[0me\u001b[0m\u001b[0;34m:\u001b[0m\u001b[0;34m\u001b[0m\u001b[0;34m\u001b[0m\u001b[0m\n\u001b[1;32m     67\u001b[0m             \u001b[0mfiltered_tb\u001b[0m \u001b[0;34m=\u001b[0m \u001b[0m_process_traceback_frames\u001b[0m\u001b[0;34m(\u001b[0m\u001b[0me\u001b[0m\u001b[0;34m.\u001b[0m\u001b[0m__traceback__\u001b[0m\u001b[0;34m)\u001b[0m\u001b[0;34m\u001b[0m\u001b[0;34m\u001b[0m\u001b[0m\n",
            "\u001b[0;32m/usr/local/lib/python3.10/dist-packages/keras/engine/training.py\u001b[0m in \u001b[0;36mfit\u001b[0;34m(self, x, y, batch_size, epochs, verbose, callbacks, validation_split, validation_data, shuffle, class_weight, sample_weight, initial_epoch, steps_per_epoch, validation_steps, validation_batch_size, validation_freq, max_queue_size, workers, use_multiprocessing)\u001b[0m\n\u001b[1;32m   1683\u001b[0m                         ):\n\u001b[1;32m   1684\u001b[0m                             \u001b[0mcallbacks\u001b[0m\u001b[0;34m.\u001b[0m\u001b[0mon_train_batch_begin\u001b[0m\u001b[0;34m(\u001b[0m\u001b[0mstep\u001b[0m\u001b[0;34m)\u001b[0m\u001b[0;34m\u001b[0m\u001b[0;34m\u001b[0m\u001b[0m\n\u001b[0;32m-> 1685\u001b[0;31m                             \u001b[0mtmp_logs\u001b[0m \u001b[0;34m=\u001b[0m \u001b[0mself\u001b[0m\u001b[0;34m.\u001b[0m\u001b[0mtrain_function\u001b[0m\u001b[0;34m(\u001b[0m\u001b[0miterator\u001b[0m\u001b[0;34m)\u001b[0m\u001b[0;34m\u001b[0m\u001b[0;34m\u001b[0m\u001b[0m\n\u001b[0m\u001b[1;32m   1686\u001b[0m                             \u001b[0;32mif\u001b[0m \u001b[0mdata_handler\u001b[0m\u001b[0;34m.\u001b[0m\u001b[0mshould_sync\u001b[0m\u001b[0;34m:\u001b[0m\u001b[0;34m\u001b[0m\u001b[0;34m\u001b[0m\u001b[0m\n\u001b[1;32m   1687\u001b[0m                                 \u001b[0mcontext\u001b[0m\u001b[0;34m.\u001b[0m\u001b[0masync_wait\u001b[0m\u001b[0;34m(\u001b[0m\u001b[0;34m)\u001b[0m\u001b[0;34m\u001b[0m\u001b[0;34m\u001b[0m\u001b[0m\n",
            "\u001b[0;32m/usr/local/lib/python3.10/dist-packages/tensorflow/python/util/traceback_utils.py\u001b[0m in \u001b[0;36merror_handler\u001b[0;34m(*args, **kwargs)\u001b[0m\n\u001b[1;32m    148\u001b[0m     \u001b[0mfiltered_tb\u001b[0m \u001b[0;34m=\u001b[0m \u001b[0;32mNone\u001b[0m\u001b[0;34m\u001b[0m\u001b[0;34m\u001b[0m\u001b[0m\n\u001b[1;32m    149\u001b[0m     \u001b[0;32mtry\u001b[0m\u001b[0;34m:\u001b[0m\u001b[0;34m\u001b[0m\u001b[0;34m\u001b[0m\u001b[0m\n\u001b[0;32m--> 150\u001b[0;31m       \u001b[0;32mreturn\u001b[0m \u001b[0mfn\u001b[0m\u001b[0;34m(\u001b[0m\u001b[0;34m*\u001b[0m\u001b[0margs\u001b[0m\u001b[0;34m,\u001b[0m \u001b[0;34m**\u001b[0m\u001b[0mkwargs\u001b[0m\u001b[0;34m)\u001b[0m\u001b[0;34m\u001b[0m\u001b[0;34m\u001b[0m\u001b[0m\n\u001b[0m\u001b[1;32m    151\u001b[0m     \u001b[0;32mexcept\u001b[0m \u001b[0mException\u001b[0m \u001b[0;32mas\u001b[0m \u001b[0me\u001b[0m\u001b[0;34m:\u001b[0m\u001b[0;34m\u001b[0m\u001b[0;34m\u001b[0m\u001b[0m\n\u001b[1;32m    152\u001b[0m       \u001b[0mfiltered_tb\u001b[0m \u001b[0;34m=\u001b[0m \u001b[0m_process_traceback_frames\u001b[0m\u001b[0;34m(\u001b[0m\u001b[0me\u001b[0m\u001b[0;34m.\u001b[0m\u001b[0m__traceback__\u001b[0m\u001b[0;34m)\u001b[0m\u001b[0;34m\u001b[0m\u001b[0;34m\u001b[0m\u001b[0m\n",
            "\u001b[0;32m/usr/local/lib/python3.10/dist-packages/tensorflow/python/eager/polymorphic_function/polymorphic_function.py\u001b[0m in \u001b[0;36m__call__\u001b[0;34m(self, *args, **kwds)\u001b[0m\n\u001b[1;32m    892\u001b[0m \u001b[0;34m\u001b[0m\u001b[0m\n\u001b[1;32m    893\u001b[0m       \u001b[0;32mwith\u001b[0m \u001b[0mOptionalXlaContext\u001b[0m\u001b[0;34m(\u001b[0m\u001b[0mself\u001b[0m\u001b[0;34m.\u001b[0m\u001b[0m_jit_compile\u001b[0m\u001b[0;34m)\u001b[0m\u001b[0;34m:\u001b[0m\u001b[0;34m\u001b[0m\u001b[0;34m\u001b[0m\u001b[0m\n\u001b[0;32m--> 894\u001b[0;31m         \u001b[0mresult\u001b[0m \u001b[0;34m=\u001b[0m \u001b[0mself\u001b[0m\u001b[0;34m.\u001b[0m\u001b[0m_call\u001b[0m\u001b[0;34m(\u001b[0m\u001b[0;34m*\u001b[0m\u001b[0margs\u001b[0m\u001b[0;34m,\u001b[0m \u001b[0;34m**\u001b[0m\u001b[0mkwds\u001b[0m\u001b[0;34m)\u001b[0m\u001b[0;34m\u001b[0m\u001b[0;34m\u001b[0m\u001b[0m\n\u001b[0m\u001b[1;32m    895\u001b[0m \u001b[0;34m\u001b[0m\u001b[0m\n\u001b[1;32m    896\u001b[0m       \u001b[0mnew_tracing_count\u001b[0m \u001b[0;34m=\u001b[0m \u001b[0mself\u001b[0m\u001b[0;34m.\u001b[0m\u001b[0mexperimental_get_tracing_count\u001b[0m\u001b[0;34m(\u001b[0m\u001b[0;34m)\u001b[0m\u001b[0;34m\u001b[0m\u001b[0;34m\u001b[0m\u001b[0m\n",
            "\u001b[0;32m/usr/local/lib/python3.10/dist-packages/tensorflow/python/eager/polymorphic_function/polymorphic_function.py\u001b[0m in \u001b[0;36m_call\u001b[0;34m(self, *args, **kwds)\u001b[0m\n\u001b[1;32m    924\u001b[0m       \u001b[0;31m# In this case we have created variables on the first call, so we run the\u001b[0m\u001b[0;34m\u001b[0m\u001b[0;34m\u001b[0m\u001b[0m\n\u001b[1;32m    925\u001b[0m       \u001b[0;31m# defunned version which is guaranteed to never create variables.\u001b[0m\u001b[0;34m\u001b[0m\u001b[0;34m\u001b[0m\u001b[0m\n\u001b[0;32m--> 926\u001b[0;31m       \u001b[0;32mreturn\u001b[0m \u001b[0mself\u001b[0m\u001b[0;34m.\u001b[0m\u001b[0m_no_variable_creation_fn\u001b[0m\u001b[0;34m(\u001b[0m\u001b[0;34m*\u001b[0m\u001b[0margs\u001b[0m\u001b[0;34m,\u001b[0m \u001b[0;34m**\u001b[0m\u001b[0mkwds\u001b[0m\u001b[0;34m)\u001b[0m  \u001b[0;31m# pylint: disable=not-callable\u001b[0m\u001b[0;34m\u001b[0m\u001b[0;34m\u001b[0m\u001b[0m\n\u001b[0m\u001b[1;32m    927\u001b[0m     \u001b[0;32melif\u001b[0m \u001b[0mself\u001b[0m\u001b[0;34m.\u001b[0m\u001b[0m_variable_creation_fn\u001b[0m \u001b[0;32mis\u001b[0m \u001b[0;32mnot\u001b[0m \u001b[0;32mNone\u001b[0m\u001b[0;34m:\u001b[0m\u001b[0;34m\u001b[0m\u001b[0;34m\u001b[0m\u001b[0m\n\u001b[1;32m    928\u001b[0m       \u001b[0;31m# Release the lock early so that multiple threads can perform the call\u001b[0m\u001b[0;34m\u001b[0m\u001b[0;34m\u001b[0m\u001b[0m\n",
            "\u001b[0;32m/usr/local/lib/python3.10/dist-packages/tensorflow/python/eager/polymorphic_function/tracing_compiler.py\u001b[0m in \u001b[0;36m__call__\u001b[0;34m(self, *args, **kwargs)\u001b[0m\n\u001b[1;32m    141\u001b[0m       (concrete_function,\n\u001b[1;32m    142\u001b[0m        filtered_flat_args) = self._maybe_define_function(args, kwargs)\n\u001b[0;32m--> 143\u001b[0;31m     return concrete_function._call_flat(\n\u001b[0m\u001b[1;32m    144\u001b[0m         filtered_flat_args, captured_inputs=concrete_function.captured_inputs)  # pylint: disable=protected-access\n\u001b[1;32m    145\u001b[0m \u001b[0;34m\u001b[0m\u001b[0m\n",
            "\u001b[0;32m/usr/local/lib/python3.10/dist-packages/tensorflow/python/eager/polymorphic_function/monomorphic_function.py\u001b[0m in \u001b[0;36m_call_flat\u001b[0;34m(self, args, captured_inputs, cancellation_manager)\u001b[0m\n\u001b[1;32m   1755\u001b[0m         and executing_eagerly):\n\u001b[1;32m   1756\u001b[0m       \u001b[0;31m# No tape is watching; skip to running the function.\u001b[0m\u001b[0;34m\u001b[0m\u001b[0;34m\u001b[0m\u001b[0m\n\u001b[0;32m-> 1757\u001b[0;31m       return self._build_call_outputs(self._inference_function.call(\n\u001b[0m\u001b[1;32m   1758\u001b[0m           ctx, args, cancellation_manager=cancellation_manager))\n\u001b[1;32m   1759\u001b[0m     forward_backward = self._select_forward_and_backward_functions(\n",
            "\u001b[0;32m/usr/local/lib/python3.10/dist-packages/tensorflow/python/eager/polymorphic_function/monomorphic_function.py\u001b[0m in \u001b[0;36mcall\u001b[0;34m(self, ctx, args, cancellation_manager)\u001b[0m\n\u001b[1;32m    379\u001b[0m       \u001b[0;32mwith\u001b[0m \u001b[0m_InterpolateFunctionError\u001b[0m\u001b[0;34m(\u001b[0m\u001b[0mself\u001b[0m\u001b[0;34m)\u001b[0m\u001b[0;34m:\u001b[0m\u001b[0;34m\u001b[0m\u001b[0;34m\u001b[0m\u001b[0m\n\u001b[1;32m    380\u001b[0m         \u001b[0;32mif\u001b[0m \u001b[0mcancellation_manager\u001b[0m \u001b[0;32mis\u001b[0m \u001b[0;32mNone\u001b[0m\u001b[0;34m:\u001b[0m\u001b[0;34m\u001b[0m\u001b[0;34m\u001b[0m\u001b[0m\n\u001b[0;32m--> 381\u001b[0;31m           outputs = execute.execute(\n\u001b[0m\u001b[1;32m    382\u001b[0m               \u001b[0mstr\u001b[0m\u001b[0;34m(\u001b[0m\u001b[0mself\u001b[0m\u001b[0;34m.\u001b[0m\u001b[0msignature\u001b[0m\u001b[0;34m.\u001b[0m\u001b[0mname\u001b[0m\u001b[0;34m)\u001b[0m\u001b[0;34m,\u001b[0m\u001b[0;34m\u001b[0m\u001b[0;34m\u001b[0m\u001b[0m\n\u001b[1;32m    383\u001b[0m               \u001b[0mnum_outputs\u001b[0m\u001b[0;34m=\u001b[0m\u001b[0mself\u001b[0m\u001b[0;34m.\u001b[0m\u001b[0m_num_outputs\u001b[0m\u001b[0;34m,\u001b[0m\u001b[0;34m\u001b[0m\u001b[0;34m\u001b[0m\u001b[0m\n",
            "\u001b[0;32m/usr/local/lib/python3.10/dist-packages/tensorflow/python/eager/execute.py\u001b[0m in \u001b[0;36mquick_execute\u001b[0;34m(op_name, num_outputs, inputs, attrs, ctx, name)\u001b[0m\n\u001b[1;32m     50\u001b[0m   \u001b[0;32mtry\u001b[0m\u001b[0;34m:\u001b[0m\u001b[0;34m\u001b[0m\u001b[0;34m\u001b[0m\u001b[0m\n\u001b[1;32m     51\u001b[0m     \u001b[0mctx\u001b[0m\u001b[0;34m.\u001b[0m\u001b[0mensure_initialized\u001b[0m\u001b[0;34m(\u001b[0m\u001b[0;34m)\u001b[0m\u001b[0;34m\u001b[0m\u001b[0;34m\u001b[0m\u001b[0m\n\u001b[0;32m---> 52\u001b[0;31m     tensors = pywrap_tfe.TFE_Py_Execute(ctx._handle, device_name, op_name,\n\u001b[0m\u001b[1;32m     53\u001b[0m                                         inputs, attrs, num_outputs)\n\u001b[1;32m     54\u001b[0m   \u001b[0;32mexcept\u001b[0m \u001b[0mcore\u001b[0m\u001b[0;34m.\u001b[0m\u001b[0m_NotOkStatusException\u001b[0m \u001b[0;32mas\u001b[0m \u001b[0me\u001b[0m\u001b[0;34m:\u001b[0m\u001b[0;34m\u001b[0m\u001b[0;34m\u001b[0m\u001b[0m\n",
            "\u001b[0;31mKeyboardInterrupt\u001b[0m: "
          ]
        }
      ]
    },
    {
      "cell_type": "code",
      "source": [
        "from sklearn.metrics import mean_squared_error"
      ],
      "metadata": {
        "id": "QVY8P4aaJKdM"
      },
      "execution_count": null,
      "outputs": []
    },
    {
      "cell_type": "code",
      "source": [
        "def autoencoder(dims, act='relu', dropout_rate=0.2):\n",
        "    n_stacks = len(dims) - 1\n",
        "    x = Input(shape=(dims[0],), name='input')\n",
        "    h = x\n",
        "    for i in range(n_stacks-1):\n",
        "        h = Dense(dims[i + 1], activation=act, name='encoder_%d' % i)(h)\n",
        "        h = Dropout(dropout_rate)(h)  # Add Dropout layer after each Dense layer\n",
        "    h = Dense(dims[-1], name='encoder_%d' % (n_stacks - 1))(h)\n",
        "    for i in range(n_stacks-1, 0, -1):\n",
        "        h = Dense(dims[i], activation=act, name='decoder_%d' % i)(h)\n",
        "        h = Dropout(dropout_rate)(h)  # Add Dropout layer after each Dense layer\n",
        "    h = Dense(dims[0], name='decoder_0')(h)\n",
        "    return Model(inputs=x, outputs=h)\n",
        "\n",
        "# Assuming you have the true cluster labels for x_train in y_true\n",
        "\n",
        "# Assuming you have the autoencoder model and weights already trained\n",
        "autoencoder = autoencoder([x.shape[-1], 200, 200, 500, 19], dropout_rate=0.2)\n",
        "autoencoder.compile(optimizer='adam', loss='mse')\n",
        "autoencoder.fit(x, x, batch_size=256, epochs=50,verbose=0)  # Adjust batch size and epochs as needed\n",
        "\n",
        "# Encode the data and predict the cluster labels using the autoencoder\n",
        "encoded_data = autoencoder.predict(x)\n",
        "y_pred = np.argmax(encoded_data, axis=1)\n",
        "\n",
        "encoded_data = autoencoder.predict(x)\n",
        "\n",
        "# Calculate the reconstruction error (MSE) between the original input data (x) and the reconstructed output (encoded_data)\n",
        "reconstruction_error = mean_squared_error(x, encoded_data)\n",
        "\n",
        "print(\"Reconstruction Error (MSE):\", reconstruction_error)"
      ],
      "metadata": {
        "colab": {
          "base_uri": "https://localhost:8080/"
        },
        "id": "Lc2Wt5qKInj-",
        "outputId": "e7446be8-3628-482d-f32b-b5a445a09c40"
      },
      "execution_count": null,
      "outputs": [
        {
          "output_type": "stream",
          "name": "stdout",
          "text": [
            "124/124 [==============================] - 0s 2ms/step\n",
            "124/124 [==============================] - 0s 2ms/step\n",
            "Reconstruction Error (MSE): 0.07380565584438994\n",
            "Normalized Mutual Information (NMI): 0.0346403047713573\n",
            "Adjusted Rand Index (ARI): 0.007477849968000788\n"
          ]
        }
      ]
    },
    {
      "cell_type": "code",
      "source": [
        "def autoencoder(dims, act='relu', dropout_rate=0.2):\n",
        "    n_stacks = len(dims) - 1\n",
        "    x = Input(shape=(dims[0],), name='input')\n",
        "    h = x\n",
        "    for i in range(n_stacks-1):\n",
        "        h = Dense(dims[i + 1], activation=act, name='encoder_%d' % i)(h)\n",
        "        h = Dropout(dropout_rate)(h)  # Add Dropout layer after each Dense layer\n",
        "    h = Dense(dims[-1], name='encoder_%d' % (n_stacks - 1))(h)\n",
        "    for i in range(n_stacks-1, 0, -1):\n",
        "        h = Dense(dims[i], activation=act, name='decoder_%d' % i)(h)\n",
        "        h = Dropout(dropout_rate)(h)  # Add Dropout layer after each Dense layer\n",
        "    h = Dense(dims[0], name='decoder_0')(h)\n",
        "    return Model(inputs=x, outputs=h)\n",
        "\n",
        "# Assuming you have the true cluster labels for x_train in y_true\n",
        "\n",
        "# Assuming you have the autoencoder model and weights already trained\n",
        "autoencoder = autoencoder([x.shape[-1], 200, 200, 500, 19], dropout_rate=0.2)\n",
        "autoencoder.compile(optimizer='adam', loss='binary_crossentropy')\n",
        "autoencoder.fit(x, x, batch_size=256, epochs=50,verbose=0)  # Adjust batch size and epochs as needed\n",
        "\n",
        "# Encode the data and predict the cluster labels using the autoencoder\n",
        "encoded_data = autoencoder.predict(x)\n",
        "y_pred = np.argmax(encoded_data, axis=1)\n",
        "\n",
        "encoded_data = autoencoder.predict(x)\n",
        "\n",
        "# Calculate the reconstruction error (MSE) between the original input data (x) and the reconstructed output (encoded_data)\n",
        "reconstruction_error = mean_squared_error(x, encoded_data)\n",
        "\n",
        "print(\"Reconstruction Error (MSE):\", reconstruction_error)"
      ],
      "metadata": {
        "colab": {
          "base_uri": "https://localhost:8080/"
        },
        "id": "XScxRHNlKNHB",
        "outputId": "d46a8f77-10fa-4378-a3da-e2e03bfaf643"
      },
      "execution_count": null,
      "outputs": [
        {
          "output_type": "stream",
          "name": "stdout",
          "text": [
            "124/124 [==============================] - 1s 3ms/step\n",
            "124/124 [==============================] - 0s 3ms/step\n",
            "Reconstruction Error (MSE): 12.836927878198797\n"
          ]
        }
      ]
    },
    {
      "cell_type": "code",
      "source": [
        "def autoencoder(dims, act='relu', dropout_rate=0.2):\n",
        "    n_stacks = len(dims) - 1\n",
        "    x = Input(shape=(dims[0],), name='input')\n",
        "    h = x\n",
        "    for i in range(n_stacks-1):\n",
        "        h = Dense(dims[i + 1], activation=act, name='encoder_%d' % i)(h)\n",
        "        h = Dropout(dropout_rate)(h)  # Add Dropout layer after each Dense layer\n",
        "    h = Dense(dims[-1], name='encoder_%d' % (n_stacks - 1))(h)\n",
        "    for i in range(n_stacks-1, 0, -1):\n",
        "        h = Dense(dims[i], activation=act, name='decoder_%d' % i)(h)\n",
        "        h = Dropout(dropout_rate)(h)  # Add Dropout layer after each Dense layer\n",
        "    h = Dense(dims[0], name='decoder_0')(h)\n",
        "    return Model(inputs=x, outputs=h)\n",
        "\n",
        "# Assuming you have the true cluster labels for x_train in y_true\n",
        "\n",
        "# Assuming you have the autoencoder model and weights already trained\n",
        "autoencoder = autoencoder([x.shape[-1], 200, 200, 500, 19], dropout_rate=0.2)\n",
        "autoencoder.compile(optimizer='adam', loss='categorical_crossentropy')\n",
        "autoencoder.fit(x, x, batch_size=256, epochs=50,verbose=0)  # Adjust batch size and epochs as needed\n",
        "\n",
        "# Encode the data and predict the cluster labels using the autoencoder\n",
        "encoded_data = autoencoder.predict(x)\n",
        "y_pred = np.argmax(encoded_data, axis=1)\n",
        "\n",
        "encoded_data = autoencoder.predict(x)\n",
        "\n",
        "# Calculate the reconstruction error (MSE) between the original input data (x) and the reconstructed output (encoded_data)\n",
        "reconstruction_error = mean_squared_error(x, encoded_data)\n",
        "\n",
        "print(\"Reconstruction Error (MSE):\", reconstruction_error)"
      ],
      "metadata": {
        "colab": {
          "base_uri": "https://localhost:8080/"
        },
        "id": "oxbATyuxKVO0",
        "outputId": "003c9fce-9d91-454a-d1e5-9288b7d041e0"
      },
      "execution_count": null,
      "outputs": [
        {
          "output_type": "stream",
          "name": "stdout",
          "text": [
            "124/124 [==============================] - 0s 3ms/step\n",
            "124/124 [==============================] - 0s 2ms/step\n",
            "Reconstruction Error (MSE): 794.5197685918629\n"
          ]
        }
      ]
    },
    {
      "cell_type": "code",
      "source": [
        "from sklearn.metrics import normalized_mutual_info_score, adjusted_rand_score\n",
        "\n",
        "# Assuming you have `y_true` and `y_pred` after clustering using the autoencoder\n",
        "\n",
        "def cluster_acc(y_true, y_pred):\n",
        "    y_true = y_true.astype(np.int64)\n",
        "    assert y_pred.size == y_true.size\n",
        "    D = max(y_pred.max(), y_true.max()) + 1\n",
        "    w = np.zeros((D, D), dtype=np.int64)\n",
        "    for i in range(y_pred.size):\n",
        "        w[y_pred[i], y_true[i]] += 1\n",
        "    _, col_ind = linear_sum_assignment(w.max() - w)\n",
        "    acc = sum([w[i, j] for i, j in zip(range(w.shape[0]), col_ind)]) * 1.0 / y_pred.size\n",
        "    return acc\n",
        "\n",
        "def calculate_nmi_and_ari(y_true, y_pred):\n",
        "    nmi_score = normalized_mutual_info_score(y_true, y_pred)\n",
        "    ari_score = adjusted_rand_score(y_true, y_pred)\n",
        "    return nmi_score, ari_score\n",
        "\n",
        "# Assuming you have `y_true` and `y_pred` after clustering using the autoencoder\n",
        "# Calculate NMI and ARI scores\n",
        "nmi_score, ari_score = calculate_nmi_and_ari(y, y_pred)\n",
        "\n",
        "# Calculate clustering accuracy using the cluster_acc function\n",
        "clustering_accuracy = cluster_acc(y_true, y_pred)\n",
        "\n",
        "print(\"Clustering Accuracy:\", clustering_accuracy)\n",
        "print(\"Normalized Mutual Information (NMI):\", nmi_score)\n",
        "print(\"Adjusted Rand Index (ARI):\", ari_score)"
      ],
      "metadata": {
        "id": "4YBRC7vlFj8c"
      },
      "execution_count": null,
      "outputs": []
    },
    {
      "cell_type": "code",
      "source": [
        "class ClusteringLayer(Dense):\n",
        "    def __init__(self, n_clusters, alpha=1.0, **kwargs):\n",
        "        self.n_clusters = n_clusters\n",
        "        self.alpha = alpha\n",
        "        super(ClusteringLayer, self).__init__(n_clusters, **kwargs)\n",
        "\n",
        "    def build(self, input_shape):\n",
        "        assert len(input_shape) == 2\n",
        "        input_dim = input_shape[1]\n",
        "        self.input_spec = InputSpec(dtype=tf.float32, shape=(None, input_dim))\n",
        "        self.clusters = self.add_weight(shape=(self.n_clusters, input_dim),\n",
        "                                        initializer='glorot_uniform', name='clusters')\n",
        "        self.built = True\n",
        "\n",
        "    def get_config(self):\n",
        "        config = super(ClusteringLayer, self).get_config()\n",
        "        config['n_clusters'] = self.n_clusters\n",
        "        config['alpha'] = self.alpha\n",
        "        return config\n",
        "\n",
        "    def call(self, inputs):\n",
        "        q = 1.0 / (1.0 + (K.sum(K.square(K.expand_dims(inputs, axis=1) - self.clusters), axis=2) / self.alpha))\n",
        "        q **= (self.alpha + 1.0) / 2.0\n",
        "        q = K.transpose(K.transpose(q) / K.sum(q, axis=1))\n",
        "        return q\n",
        "\n",
        "class IDEC(object):\n",
        "    def __init__(self, dims, n_clusters=2, alpha=1.0):\n",
        "        self.dims = dims\n",
        "        self.input_dim = dims[0]\n",
        "        self.n_stacks = len(self.dims) - 1\n",
        "        self.n_clusters = n_clusters\n",
        "        self.alpha = alpha\n",
        "        self.autoencoder = autoencoder(self.dims)\n",
        "\n",
        "    def initialize_model(self, ae_weights=None, gamma=0.1, optimizer='adam'):\n",
        "        if ae_weights is not None:\n",
        "            self.autoencoder.load_weights(ae_weights)\n",
        "            print('Pretrained AE weights are loaded successfully.')\n",
        "        else:\n",
        "            print('Training the autoencoder from scratch.')\n",
        "            self.autoencoder.compile(loss='mse', optimizer=optimizer)\n",
        "            self.autoencoder.fit(x, x, batch_size=self.batch_size, epochs=200)  # You can adjust the epochs as needed\n",
        "\n",
        "        hidden = self.autoencoder.get_layer(name='encoder_%d' % (self.n_stacks - 1)).output\n",
        "        self.encoder = Model(inputs=self.autoencoder.input, outputs=hidden)\n",
        "\n",
        "        # prepare IDEC model\n",
        "        clustering_layer = ClusteringLayer(self.n_clusters, name='clustering')(hidden)\n",
        "        self.model = Model(inputs=self.autoencoder.input,\n",
        "                           outputs=[clustering_layer, self.autoencoder.output])\n",
        "        self.model.compile(loss={'clustering': 'kld', 'decoder_0': 'mse'},\n",
        "                           loss_weights=[gamma, 1],\n",
        "                           optimizer=optimizer)\n",
        "\n",
        "    def fit(self, x, y=None, batch_size=256, maxiter=2e4, tol=1e-3, update_interval=140, save_dir='./results/idec'):\n",
        "        print('Update interval', update_interval)\n",
        "        save_interval = int(x.shape[0] / batch_size) * 5\n",
        "        print('Save interval', save_interval)\n",
        "        kmeans = KMeans(n_clusters=self.n_clusters, n_init=20)\n",
        "        y_pred = kmeans.fit_predict(self.encoder.predict(x))\n",
        "        y_pred_last = np.copy(y_pred)\n",
        "        self.model.get_layer(name='clustering').set_weights([kmeans.cluster_centers_])\n",
        "\n",
        "        if not os.path.exists(save_dir):\n",
        "            os.makedirs(save_dir)\n",
        "        logfile = open(save_dir + '/idec_log.csv', 'w')\n",
        "        logwriter = csv.DictWriter(logfile, fieldnames=['iter', 'acc', 'nmi', 'ari', 'L'])\n",
        "        logwriter.writeheader()\n",
        "\n",
        "        loss = [0, 0, 0]\n",
        "        index = 0\n",
        "        for ite in range(int(maxiter)):\n",
        "            if ite % update_interval == 0:\n",
        "                q, _ = self.model.predict(x, verbose=0)\n",
        "                p = self.target_distribution(q)\n",
        "                y_pred = q.argmax(1)\n",
        "                if y is not None:\n",
        "                    acc = cluster_acc(y, y_pred)\n",
        "                    nmi = normalized_mutual_info_score(y, y_pred)\n",
        "                    ari = adjusted_rand_score(y, y_pred)\n",
        "                    loss = np.round(loss, 5)\n",
        "                    logwriter.writerow({'iter': ite, 'acc': acc, 'nmi': nmi, 'ari': ari, 'L': loss[0]})\n",
        "                    print('Iter', ite, ': Acc', acc, ', nmi', nmi, ', ari', ari, '; loss=', loss)\n",
        "\n",
        "                delta_label = np.sum(y_pred != y_pred_last).astype(np.float32) / y_pred.shape[0]\n",
        "                y_pred_last = np.copy(y_pred)\n",
        "\n",
        "                if ite > 0 and delta_label < tol:\n",
        "                    print('delta_label ', delta_label, '< tol ', tol)\n",
        "                    print('Reached tolerance threshold. Stopping training.')\n",
        "                    logfile.close()\n",
        "                    break\n",
        "\n",
        "            if (index + 1) * batch_size > x.shape[0]:\n",
        "                loss = self.model.train_on_batch(x=x[index * batch_size::], y=[p[index * batch_size::], x[index * batch_size::]])\n",
        "                index = 0\n",
        "            else:\n",
        "                loss = self.model.train_on_batch(x=x[index * batch_size:(index + 1) * batch_size],\n",
        "                                                 y=[p[index * batch_size:(index + 1) * batch_size],\n",
        "                                                    x[index * batch_size:(index + 1) * batch_size]])\n",
        "                index += 1\n",
        "\n",
        "            if ite % save_interval == 0:\n",
        "                print('saving model to:', save_dir + '/IDEC_model_' + str(ite) + '.h5')\n",
        "                self.model.save_weights(save_dir + '/IDEC_model_' + str(ite) + '.h5')\n",
        "\n",
        "            ite += 1\n",
        "\n",
        "        logfile.close()\n",
        "        print('saving model to:', save_dir + '/IDEC_model_final.h5')\n",
        "        self.model.save_weights(save_dir + '/IDEC_model_final.h5')\n",
        "\n",
        "        return y_pred\n",
        "\n",
        "    def predict_clusters(self, x):\n",
        "        q, _ = self.model.predict(x, verbose=0)\n",
        "        return q.argmax(axis=1)\n",
        "\n",
        "    @staticmethod\n",
        "    def target_distribution(q):\n",
        "        weight = q ** 2 / q.sum(0)\n",
        "        return (weight.T / weight.sum(1)).T\n",
        "\n",
        "#  batch_size=256, tol=0.001, maxiter=20000, update_interval=140,"
      ],
      "metadata": {
        "id": "SXi0hnc2YqNd"
      },
      "execution_count": null,
      "outputs": []
    },
    {
      "cell_type": "code",
      "source": [
        "def idec_imp(batch_size,tol,maxiter,intervel):\n",
        "    x, y, wtrain1, info_train1 = dataloader(train_path)\n",
        "    xtest, ytest, wtest1, info_test1 = dataloader(test_path)\n",
        "    xtest = normalization(xtest)\n",
        "    x = normalization(x)\n",
        "\n",
        "    idec = IDEC(dims=[x.shape[-1], 500, 500, 2000, 10], n_clusters=2)\n",
        "    idec.initialize_model(ae_weights='autoencoder_weights.h5', gamma=0.1, optimizer='adam')\n",
        "    idec.fit(x, y=y, batch_size=batch_size, tol=tol, maxiter=maxiter, update_interval=intervel, save_dir='./results/idec')\n",
        "\n",
        "    # Show the final results\n",
        "    y_pred = idec.predict_clusters(x)\n",
        "    print('ACC:', cluster_acc(y, y_pred))\n",
        "    nmi_score = calculate_nmi(y, y_pred)\n",
        "    ari_score = calculate_ari(y, y_pred)\n",
        "\n",
        "    print(\"Normalized Mutual Information (NMI):\", nmi_score)\n",
        "    print(\"Adjusted Rand Index (ARI):\", ari_score)\n"
      ],
      "metadata": {
        "id": "7anDE2RrAZvm"
      },
      "execution_count": null,
      "outputs": []
    },
    {
      "cell_type": "code",
      "source": [
        "idec_imp(256,0.001,20000,140)"
      ],
      "metadata": {
        "colab": {
          "base_uri": "https://localhost:8080/",
          "height": 432
        },
        "id": "QtnPodBk_Ho0",
        "outputId": "8ed09e16-5ab1-4b03-e669-763388cf63de"
      },
      "execution_count": null,
      "outputs": [
        {
          "output_type": "error",
          "ename": "FileNotFoundError",
          "evalue": "ignored",
          "traceback": [
            "\u001b[0;31m---------------------------------------------------------------------------\u001b[0m",
            "\u001b[0;31mFileNotFoundError\u001b[0m                         Traceback (most recent call last)",
            "\u001b[0;32m<ipython-input-24-50e72c7df692>\u001b[0m in \u001b[0;36m<cell line: 1>\u001b[0;34m()\u001b[0m\n\u001b[0;32m----> 1\u001b[0;31m \u001b[0midec_imp\u001b[0m\u001b[0;34m(\u001b[0m\u001b[0;36m256\u001b[0m\u001b[0;34m,\u001b[0m\u001b[0;36m0.001\u001b[0m\u001b[0;34m,\u001b[0m\u001b[0;36m20000\u001b[0m\u001b[0;34m,\u001b[0m\u001b[0;36m140\u001b[0m\u001b[0;34m)\u001b[0m\u001b[0;34m\u001b[0m\u001b[0;34m\u001b[0m\u001b[0m\n\u001b[0m",
            "\u001b[0;32m<ipython-input-23-027b138e88b8>\u001b[0m in \u001b[0;36midec_imp\u001b[0;34m(batch_size, tol, maxiter, intervel)\u001b[0m\n\u001b[1;32m      6\u001b[0m \u001b[0;34m\u001b[0m\u001b[0m\n\u001b[1;32m      7\u001b[0m     \u001b[0midec\u001b[0m \u001b[0;34m=\u001b[0m \u001b[0mIDEC\u001b[0m\u001b[0;34m(\u001b[0m\u001b[0mdims\u001b[0m\u001b[0;34m=\u001b[0m\u001b[0;34m[\u001b[0m\u001b[0mx\u001b[0m\u001b[0;34m.\u001b[0m\u001b[0mshape\u001b[0m\u001b[0;34m[\u001b[0m\u001b[0;34m-\u001b[0m\u001b[0;36m1\u001b[0m\u001b[0;34m]\u001b[0m\u001b[0;34m,\u001b[0m \u001b[0;36m500\u001b[0m\u001b[0;34m,\u001b[0m \u001b[0;36m500\u001b[0m\u001b[0;34m,\u001b[0m \u001b[0;36m2000\u001b[0m\u001b[0;34m,\u001b[0m \u001b[0;36m10\u001b[0m\u001b[0;34m]\u001b[0m\u001b[0;34m,\u001b[0m \u001b[0mn_clusters\u001b[0m\u001b[0;34m=\u001b[0m\u001b[0;36m2\u001b[0m\u001b[0;34m)\u001b[0m\u001b[0;34m\u001b[0m\u001b[0;34m\u001b[0m\u001b[0m\n\u001b[0;32m----> 8\u001b[0;31m     \u001b[0midec\u001b[0m\u001b[0;34m.\u001b[0m\u001b[0minitialize_model\u001b[0m\u001b[0;34m(\u001b[0m\u001b[0mae_weights\u001b[0m\u001b[0;34m=\u001b[0m\u001b[0;34m'autoencoder_weights.h5'\u001b[0m\u001b[0;34m,\u001b[0m \u001b[0mgamma\u001b[0m\u001b[0;34m=\u001b[0m\u001b[0;36m0.1\u001b[0m\u001b[0;34m,\u001b[0m \u001b[0moptimizer\u001b[0m\u001b[0;34m=\u001b[0m\u001b[0;34m'adam'\u001b[0m\u001b[0;34m)\u001b[0m\u001b[0;34m\u001b[0m\u001b[0;34m\u001b[0m\u001b[0m\n\u001b[0m\u001b[1;32m      9\u001b[0m     \u001b[0midec\u001b[0m\u001b[0;34m.\u001b[0m\u001b[0mfit\u001b[0m\u001b[0;34m(\u001b[0m\u001b[0mx\u001b[0m\u001b[0;34m,\u001b[0m \u001b[0my\u001b[0m\u001b[0;34m=\u001b[0m\u001b[0my\u001b[0m\u001b[0;34m,\u001b[0m \u001b[0mbatch_size\u001b[0m\u001b[0;34m=\u001b[0m\u001b[0mbatch_size\u001b[0m\u001b[0;34m,\u001b[0m \u001b[0mtol\u001b[0m\u001b[0;34m=\u001b[0m\u001b[0mtol\u001b[0m\u001b[0;34m,\u001b[0m \u001b[0mmaxiter\u001b[0m\u001b[0;34m=\u001b[0m\u001b[0mmaxiter\u001b[0m\u001b[0;34m,\u001b[0m \u001b[0mupdate_interval\u001b[0m\u001b[0;34m=\u001b[0m\u001b[0mintervel\u001b[0m\u001b[0;34m,\u001b[0m \u001b[0msave_dir\u001b[0m\u001b[0;34m=\u001b[0m\u001b[0;34m'./results/idec'\u001b[0m\u001b[0;34m)\u001b[0m\u001b[0;34m\u001b[0m\u001b[0;34m\u001b[0m\u001b[0m\n\u001b[1;32m     10\u001b[0m \u001b[0;34m\u001b[0m\u001b[0m\n",
            "\u001b[0;32m<ipython-input-22-74b58e4d3c6a>\u001b[0m in \u001b[0;36minitialize_model\u001b[0;34m(self, ae_weights, gamma, optimizer)\u001b[0m\n\u001b[1;32m     36\u001b[0m     \u001b[0;32mdef\u001b[0m \u001b[0minitialize_model\u001b[0m\u001b[0;34m(\u001b[0m\u001b[0mself\u001b[0m\u001b[0;34m,\u001b[0m \u001b[0mae_weights\u001b[0m\u001b[0;34m=\u001b[0m\u001b[0;32mNone\u001b[0m\u001b[0;34m,\u001b[0m \u001b[0mgamma\u001b[0m\u001b[0;34m=\u001b[0m\u001b[0;36m0.1\u001b[0m\u001b[0;34m,\u001b[0m \u001b[0moptimizer\u001b[0m\u001b[0;34m=\u001b[0m\u001b[0;34m'adam'\u001b[0m\u001b[0;34m)\u001b[0m\u001b[0;34m:\u001b[0m\u001b[0;34m\u001b[0m\u001b[0;34m\u001b[0m\u001b[0m\n\u001b[1;32m     37\u001b[0m         \u001b[0;32mif\u001b[0m \u001b[0mae_weights\u001b[0m \u001b[0;32mis\u001b[0m \u001b[0;32mnot\u001b[0m \u001b[0;32mNone\u001b[0m\u001b[0;34m:\u001b[0m\u001b[0;34m\u001b[0m\u001b[0;34m\u001b[0m\u001b[0m\n\u001b[0;32m---> 38\u001b[0;31m             \u001b[0mself\u001b[0m\u001b[0;34m.\u001b[0m\u001b[0mautoencoder\u001b[0m\u001b[0;34m.\u001b[0m\u001b[0mload_weights\u001b[0m\u001b[0;34m(\u001b[0m\u001b[0mae_weights\u001b[0m\u001b[0;34m)\u001b[0m\u001b[0;34m\u001b[0m\u001b[0;34m\u001b[0m\u001b[0m\n\u001b[0m\u001b[1;32m     39\u001b[0m             \u001b[0mprint\u001b[0m\u001b[0;34m(\u001b[0m\u001b[0;34m'Pretrained AE weights are loaded successfully.'\u001b[0m\u001b[0;34m)\u001b[0m\u001b[0;34m\u001b[0m\u001b[0;34m\u001b[0m\u001b[0m\n\u001b[1;32m     40\u001b[0m         \u001b[0;32melse\u001b[0m\u001b[0;34m:\u001b[0m\u001b[0;34m\u001b[0m\u001b[0;34m\u001b[0m\u001b[0m\n",
            "\u001b[0;32m/usr/local/lib/python3.10/dist-packages/keras/utils/traceback_utils.py\u001b[0m in \u001b[0;36merror_handler\u001b[0;34m(*args, **kwargs)\u001b[0m\n\u001b[1;32m     68\u001b[0m             \u001b[0;31m# To get the full stack trace, call:\u001b[0m\u001b[0;34m\u001b[0m\u001b[0;34m\u001b[0m\u001b[0m\n\u001b[1;32m     69\u001b[0m             \u001b[0;31m# `tf.debugging.disable_traceback_filtering()`\u001b[0m\u001b[0;34m\u001b[0m\u001b[0;34m\u001b[0m\u001b[0m\n\u001b[0;32m---> 70\u001b[0;31m             \u001b[0;32mraise\u001b[0m \u001b[0me\u001b[0m\u001b[0;34m.\u001b[0m\u001b[0mwith_traceback\u001b[0m\u001b[0;34m(\u001b[0m\u001b[0mfiltered_tb\u001b[0m\u001b[0;34m)\u001b[0m \u001b[0;32mfrom\u001b[0m \u001b[0;32mNone\u001b[0m\u001b[0;34m\u001b[0m\u001b[0;34m\u001b[0m\u001b[0m\n\u001b[0m\u001b[1;32m     71\u001b[0m         \u001b[0;32mfinally\u001b[0m\u001b[0;34m:\u001b[0m\u001b[0;34m\u001b[0m\u001b[0;34m\u001b[0m\u001b[0m\n\u001b[1;32m     72\u001b[0m             \u001b[0;32mdel\u001b[0m \u001b[0mfiltered_tb\u001b[0m\u001b[0;34m\u001b[0m\u001b[0;34m\u001b[0m\u001b[0m\n",
            "\u001b[0;32m/usr/local/lib/python3.10/dist-packages/h5py/_hl/files.py\u001b[0m in \u001b[0;36m__init__\u001b[0;34m(self, name, mode, driver, libver, userblock_size, swmr, rdcc_nslots, rdcc_nbytes, rdcc_w0, track_order, fs_strategy, fs_persist, fs_threshold, fs_page_size, page_buf_size, min_meta_keep, min_raw_keep, locking, alignment_threshold, alignment_interval, meta_block_size, **kwds)\u001b[0m\n\u001b[1;32m    565\u001b[0m                                  \u001b[0mfs_persist\u001b[0m\u001b[0;34m=\u001b[0m\u001b[0mfs_persist\u001b[0m\u001b[0;34m,\u001b[0m \u001b[0mfs_threshold\u001b[0m\u001b[0;34m=\u001b[0m\u001b[0mfs_threshold\u001b[0m\u001b[0;34m,\u001b[0m\u001b[0;34m\u001b[0m\u001b[0;34m\u001b[0m\u001b[0m\n\u001b[1;32m    566\u001b[0m                                  fs_page_size=fs_page_size)\n\u001b[0;32m--> 567\u001b[0;31m                 \u001b[0mfid\u001b[0m \u001b[0;34m=\u001b[0m \u001b[0mmake_fid\u001b[0m\u001b[0;34m(\u001b[0m\u001b[0mname\u001b[0m\u001b[0;34m,\u001b[0m \u001b[0mmode\u001b[0m\u001b[0;34m,\u001b[0m \u001b[0muserblock_size\u001b[0m\u001b[0;34m,\u001b[0m \u001b[0mfapl\u001b[0m\u001b[0;34m,\u001b[0m \u001b[0mfcpl\u001b[0m\u001b[0;34m,\u001b[0m \u001b[0mswmr\u001b[0m\u001b[0;34m=\u001b[0m\u001b[0mswmr\u001b[0m\u001b[0;34m)\u001b[0m\u001b[0;34m\u001b[0m\u001b[0;34m\u001b[0m\u001b[0m\n\u001b[0m\u001b[1;32m    568\u001b[0m \u001b[0;34m\u001b[0m\u001b[0m\n\u001b[1;32m    569\u001b[0m             \u001b[0;32mif\u001b[0m \u001b[0misinstance\u001b[0m\u001b[0;34m(\u001b[0m\u001b[0mlibver\u001b[0m\u001b[0;34m,\u001b[0m \u001b[0mtuple\u001b[0m\u001b[0;34m)\u001b[0m\u001b[0;34m:\u001b[0m\u001b[0;34m\u001b[0m\u001b[0;34m\u001b[0m\u001b[0m\n",
            "\u001b[0;32m/usr/local/lib/python3.10/dist-packages/h5py/_hl/files.py\u001b[0m in \u001b[0;36mmake_fid\u001b[0;34m(name, mode, userblock_size, fapl, fcpl, swmr)\u001b[0m\n\u001b[1;32m    229\u001b[0m         \u001b[0;32mif\u001b[0m \u001b[0mswmr\u001b[0m \u001b[0;32mand\u001b[0m \u001b[0mswmr_support\u001b[0m\u001b[0;34m:\u001b[0m\u001b[0;34m\u001b[0m\u001b[0;34m\u001b[0m\u001b[0m\n\u001b[1;32m    230\u001b[0m             \u001b[0mflags\u001b[0m \u001b[0;34m|=\u001b[0m \u001b[0mh5f\u001b[0m\u001b[0;34m.\u001b[0m\u001b[0mACC_SWMR_READ\u001b[0m\u001b[0;34m\u001b[0m\u001b[0;34m\u001b[0m\u001b[0m\n\u001b[0;32m--> 231\u001b[0;31m         \u001b[0mfid\u001b[0m \u001b[0;34m=\u001b[0m \u001b[0mh5f\u001b[0m\u001b[0;34m.\u001b[0m\u001b[0mopen\u001b[0m\u001b[0;34m(\u001b[0m\u001b[0mname\u001b[0m\u001b[0;34m,\u001b[0m \u001b[0mflags\u001b[0m\u001b[0;34m,\u001b[0m \u001b[0mfapl\u001b[0m\u001b[0;34m=\u001b[0m\u001b[0mfapl\u001b[0m\u001b[0;34m)\u001b[0m\u001b[0;34m\u001b[0m\u001b[0;34m\u001b[0m\u001b[0m\n\u001b[0m\u001b[1;32m    232\u001b[0m     \u001b[0;32melif\u001b[0m \u001b[0mmode\u001b[0m \u001b[0;34m==\u001b[0m \u001b[0;34m'r+'\u001b[0m\u001b[0;34m:\u001b[0m\u001b[0;34m\u001b[0m\u001b[0;34m\u001b[0m\u001b[0m\n\u001b[1;32m    233\u001b[0m         \u001b[0mfid\u001b[0m \u001b[0;34m=\u001b[0m \u001b[0mh5f\u001b[0m\u001b[0;34m.\u001b[0m\u001b[0mopen\u001b[0m\u001b[0;34m(\u001b[0m\u001b[0mname\u001b[0m\u001b[0;34m,\u001b[0m \u001b[0mh5f\u001b[0m\u001b[0;34m.\u001b[0m\u001b[0mACC_RDWR\u001b[0m\u001b[0;34m,\u001b[0m \u001b[0mfapl\u001b[0m\u001b[0;34m=\u001b[0m\u001b[0mfapl\u001b[0m\u001b[0;34m)\u001b[0m\u001b[0;34m\u001b[0m\u001b[0;34m\u001b[0m\u001b[0m\n",
            "\u001b[0;32mh5py/_objects.pyx\u001b[0m in \u001b[0;36mh5py._objects.with_phil.wrapper\u001b[0;34m()\u001b[0m\n",
            "\u001b[0;32mh5py/_objects.pyx\u001b[0m in \u001b[0;36mh5py._objects.with_phil.wrapper\u001b[0;34m()\u001b[0m\n",
            "\u001b[0;32mh5py/h5f.pyx\u001b[0m in \u001b[0;36mh5py.h5f.open\u001b[0;34m()\u001b[0m\n",
            "\u001b[0;31mFileNotFoundError\u001b[0m: [Errno 2] Unable to open file (unable to open file: name = 'autoencoder_weights.h5', errno = 2, error message = 'No such file or directory', flags = 0, o_flags = 0)"
          ]
        }
      ]
    },
    {
      "cell_type": "code",
      "source": [
        "idec_imp(512,0.001,20000,140)"
      ],
      "metadata": {
        "colab": {
          "base_uri": "https://localhost:8080/"
        },
        "id": "_TsVEZ5TBmww",
        "outputId": "b9bf876e-5cbf-443b-d6a8-f59cabdb7695"
      },
      "execution_count": null,
      "outputs": [
        {
          "output_type": "stream",
          "name": "stdout",
          "text": [
            "Pretrained AE weights are loaded successfully.\n",
            "Update interval 140\n",
            "Save interval 35\n",
            "124/124 [==============================] - 0s 1ms/step\n",
            "Iter 0 : Acc 0.5287588294651867 , nmi 0.002833029784108982 , ari 0.0030865106413905763 ; loss= [0 0 0]\n",
            "saving model to: ./results/idec/IDEC_model_0.h5\n",
            "saving model to: ./results/idec/IDEC_model_35.h5\n",
            "saving model to: ./results/idec/IDEC_model_70.h5\n",
            "saving model to: ./results/idec/IDEC_model_105.h5\n",
            "Iter 140 : Acc 0.5302724520686175 , nmi 0.002950404031668609 , ari 0.0034335819674308067 ; loss= [0.016   0.00745 0.01525]\n",
            "saving model to: ./results/idec/IDEC_model_140.h5\n",
            "saving model to: ./results/idec/IDEC_model_175.h5\n",
            "saving model to: ./results/idec/IDEC_model_210.h5\n",
            "saving model to: ./results/idec/IDEC_model_245.h5\n",
            "Iter 280 : Acc 0.5343087790110999 , nmi 0.0036483253067880676 , ari 0.004469883247599752 ; loss= [0.02169 0.0142  0.02027]\n",
            "saving model to: ./results/idec/IDEC_model_280.h5\n",
            "saving model to: ./results/idec/IDEC_model_315.h5\n",
            "saving model to: ./results/idec/IDEC_model_350.h5\n",
            "saving model to: ./results/idec/IDEC_model_385.h5\n",
            "Iter 420 : Acc 0.5375882946518667 , nmi 0.0042198580549322046 , ari 0.005406649789356875 ; loss= [0.01564 0.02147 0.01349]\n",
            "saving model to: ./results/idec/IDEC_model_420.h5\n",
            "saving model to: ./results/idec/IDEC_model_455.h5\n",
            "saving model to: ./results/idec/IDEC_model_490.h5\n",
            "saving model to: ./results/idec/IDEC_model_525.h5\n",
            "Iter 560 : Acc 0.5418768920282543 , nmi 0.005167470287847766 , ari 0.006767683847928329 ; loss= [0.02273 0.03164 0.01956]\n",
            "saving model to: ./results/idec/IDEC_model_560.h5\n",
            "saving model to: ./results/idec/IDEC_model_595.h5\n",
            "saving model to: ./results/idec/IDEC_model_630.h5\n",
            "saving model to: ./results/idec/IDEC_model_665.h5\n",
            "Iter 700 : Acc 0.5436427850655903 , nmi 0.005589162700135165 , ari 0.007371135357669611 ; loss= [0.01798 0.0348  0.0145 ]\n",
            "saving model to: ./results/idec/IDEC_model_700.h5\n",
            "saving model to: ./results/idec/IDEC_model_735.h5\n",
            "saving model to: ./results/idec/IDEC_model_770.h5\n",
            "saving model to: ./results/idec/IDEC_model_805.h5\n",
            "Iter 840 : Acc 0.5446518668012109 , nmi 0.005826856315597438 , ari 0.007726860622840349 ; loss= [0.02308 0.03923 0.01915]\n",
            "saving model to: ./results/idec/IDEC_model_840.h5\n",
            "saving model to: ./results/idec/IDEC_model_875.h5\n",
            "saving model to: ./results/idec/IDEC_model_910.h5\n",
            "saving model to: ./results/idec/IDEC_model_945.h5\n",
            "Iter 980 : Acc 0.5464177598385469 , nmi 0.006287544871363077 , ari 0.008370009443337673 ; loss= [0.02257 0.041   0.01847]\n",
            "saving model to: ./results/idec/IDEC_model_980.h5\n",
            "saving model to: ./results/idec/IDEC_model_1015.h5\n",
            "saving model to: ./results/idec/IDEC_model_1050.h5\n",
            "saving model to: ./results/idec/IDEC_model_1085.h5\n",
            "Iter 1120 : Acc 0.5471745711402624 , nmi 0.0064893238307568366 , ari 0.008653260687062023 ; loss= [0.02009 0.04163 0.01592]\n",
            "saving model to: ./results/idec/IDEC_model_1120.h5\n",
            "saving model to: ./results/idec/IDEC_model_1155.h5\n",
            "saving model to: ./results/idec/IDEC_model_1190.h5\n",
            "saving model to: ./results/idec/IDEC_model_1225.h5\n",
            "Iter 1260 : Acc 0.5459132189707366 , nmi 0.006137800716841912 , ari 0.008183220999966087 ; loss= [0.02343 0.04467 0.01896]\n",
            "saving model to: ./results/idec/IDEC_model_1260.h5\n",
            "saving model to: ./results/idec/IDEC_model_1295.h5\n",
            "saving model to: ./results/idec/IDEC_model_1330.h5\n",
            "saving model to: ./results/idec/IDEC_model_1365.h5\n",
            "Iter 1400 : Acc 0.548183652875883 , nmi 0.00676440570929979 , ari 0.00903809422290242 ; loss= [0.03184 0.05083 0.02675]\n",
            "saving model to: ./results/idec/IDEC_model_1400.h5\n",
            "saving model to: ./results/idec/IDEC_model_1435.h5\n",
            "saving model to: ./results/idec/IDEC_model_1470.h5\n",
            "saving model to: ./results/idec/IDEC_model_1505.h5\n",
            "Iter 1540 : Acc 0.5469223007063572 , nmi 0.006407069753945467 , ari 0.008557918719469494 ; loss= [0.0245  0.04712 0.01979]\n",
            "saving model to: ./results/idec/IDEC_model_1540.h5\n",
            "saving model to: ./results/idec/IDEC_model_1575.h5\n",
            "saving model to: ./results/idec/IDEC_model_1610.h5\n",
            "saving model to: ./results/idec/IDEC_model_1645.h5\n",
            "Iter 1680 : Acc 0.5459132189707366 , nmi 0.006135292450143969 , ari 0.00818314656929344 ; loss= [0.02979 0.05073 0.02472]\n",
            "saving model to: ./results/idec/IDEC_model_1680.h5\n",
            "saving model to: ./results/idec/IDEC_model_1715.h5\n",
            "saving model to: ./results/idec/IDEC_model_1750.h5\n",
            "saving model to: ./results/idec/IDEC_model_1785.h5\n",
            "Iter 1820 : Acc 0.5464177598385469 , nmi 0.006271076018867342 , ari 0.008369532361219727 ; loss= [0.02505 0.03871 0.02118]\n",
            "saving model to: ./results/idec/IDEC_model_1820.h5\n",
            "saving model to: ./results/idec/IDEC_model_1855.h5\n",
            "saving model to: ./results/idec/IDEC_model_1890.h5\n",
            "saving model to: ./results/idec/IDEC_model_1925.h5\n",
            "Iter 1960 : Acc 0.5461654894046418 , nmi 0.0062061788998512115 , ari 0.008276178188073238 ; loss= [0.03717 0.04107 0.03306]\n",
            "saving model to: ./results/idec/IDEC_model_1960.h5\n",
            "saving model to: ./results/idec/IDEC_model_1995.h5\n",
            "saving model to: ./results/idec/IDEC_model_2030.h5\n",
            "saving model to: ./results/idec/IDEC_model_2065.h5\n",
            "Iter 2100 : Acc 0.5471745711402624 , nmi 0.006475612599315211 , ari 0.008652875971109657 ; loss= [0.03024 0.03979 0.02626]\n",
            "saving model to: ./results/idec/IDEC_model_2100.h5\n",
            "saving model to: ./results/idec/IDEC_model_2135.h5\n",
            "saving model to: ./results/idec/IDEC_model_2170.h5\n",
            "saving model to: ./results/idec/IDEC_model_2205.h5\n",
            "Iter 2240 : Acc 0.5471745711402624 , nmi 0.006473093593307615 , ari 0.00865280514257727 ; loss= [0.02355 0.03955 0.01959]\n",
            "saving model to: ./results/idec/IDEC_model_2240.h5\n",
            "saving model to: ./results/idec/IDEC_model_2275.h5\n",
            "saving model to: ./results/idec/IDEC_model_2310.h5\n",
            "saving model to: ./results/idec/IDEC_model_2345.h5\n",
            "Iter 2380 : Acc 0.5469223007063572 , nmi 0.006405805437963788 , ari 0.008557882792206428 ; loss= [0.02737 0.04207 0.02316]\n",
            "saving model to: ./results/idec/IDEC_model_2380.h5\n",
            "saving model to: ./results/idec/IDEC_model_2415.h5\n",
            "saving model to: ./results/idec/IDEC_model_2450.h5\n",
            "saving model to: ./results/idec/IDEC_model_2485.h5\n",
            "Iter 2520 : Acc 0.5469223007063572 , nmi 0.006403331821482839 , ari 0.008557812466492468 ; loss= [0.02852 0.04309 0.02421]\n",
            "saving model to: ./results/idec/IDEC_model_2520.h5\n",
            "saving model to: ./results/idec/IDEC_model_2555.h5\n",
            "saving model to: ./results/idec/IDEC_model_2590.h5\n",
            "saving model to: ./results/idec/IDEC_model_2625.h5\n",
            "Iter 2660 : Acc 0.5474268415741675 , nmi 0.006543246418085115 , ari 0.008748307193559868 ; loss= [0.02303 0.03511 0.01952]\n",
            "delta_label  0.0005045408678102926 < tol  0.001\n",
            "Reached tolerance threshold. Stopping training.\n",
            "saving model to: ./results/idec/IDEC_model_final.h5\n",
            "ACC: 0.5474268415741675\n",
            "Normalized Mutual Information (NMI): 0.006543246418085115\n",
            "Adjusted Rand Index (ARI): 0.008748307193559868\n"
          ]
        }
      ]
    },
    {
      "cell_type": "code",
      "source": [
        "idec_imp(128,0.001,20000,140)"
      ],
      "metadata": {
        "colab": {
          "base_uri": "https://localhost:8080/",
          "height": 519
        },
        "id": "LjSLQpfWBrEM",
        "outputId": "da8c0502-8887-4249-e3cf-626fc3b1511b"
      },
      "execution_count": null,
      "outputs": [
        {
          "output_type": "stream",
          "name": "stdout",
          "text": [
            "Pretrained AE weights are loaded successfully.\n",
            "Update interval 140\n",
            "Save interval 150\n",
            "124/124 [==============================] - 0s 1ms/step\n",
            "Iter 0 : Acc 0.5252270433905146 , nmi 0.002154605665795058 , ari 0.0023217822488051597 ; loss= [0 0 0]\n",
            "saving model to: ./results/idec/IDEC_model_0.h5\n",
            "Iter 140 : Acc 0.5287588294651867 , nmi 0.0026625095461960567 , ari 0.0030760943792922206 ; loss= [0.02202 0.00848 0.02118]\n",
            "saving model to: ./results/idec/IDEC_model_150.h5\n",
            "Iter 280 : Acc 0.5282542885973764 , nmi 0.0024751065342578345 , ari 0.0029544847632481403 ; loss= [0.02166 0.0132  0.02034]\n",
            "saving model to: ./results/idec/IDEC_model_300.h5\n",
            "Iter 420 : Acc 0.5317860746720484 , nmi 0.0030398873145374033 , ari 0.003797526924977554 ; loss= [0.03203 0.01952 0.03007]\n",
            "saving model to: ./results/idec/IDEC_model_450.h5\n"
          ]
        },
        {
          "output_type": "error",
          "ename": "KeyboardInterrupt",
          "evalue": "ignored",
          "traceback": [
            "\u001b[0;31m---------------------------------------------------------------------------\u001b[0m",
            "\u001b[0;31mKeyboardInterrupt\u001b[0m                         Traceback (most recent call last)",
            "\u001b[0;32m<ipython-input-19-692ab6fefe5b>\u001b[0m in \u001b[0;36m<cell line: 1>\u001b[0;34m()\u001b[0m\n\u001b[0;32m----> 1\u001b[0;31m \u001b[0midec_imp\u001b[0m\u001b[0;34m(\u001b[0m\u001b[0;36m128\u001b[0m\u001b[0;34m,\u001b[0m\u001b[0;36m0.001\u001b[0m\u001b[0;34m,\u001b[0m\u001b[0;36m20000\u001b[0m\u001b[0;34m,\u001b[0m\u001b[0;36m140\u001b[0m\u001b[0;34m)\u001b[0m\u001b[0;34m\u001b[0m\u001b[0;34m\u001b[0m\u001b[0m\n\u001b[0m",
            "\u001b[0;32m<ipython-input-16-027b138e88b8>\u001b[0m in \u001b[0;36midec_imp\u001b[0;34m(batch_size, tol, maxiter, intervel)\u001b[0m\n\u001b[1;32m      7\u001b[0m     \u001b[0midec\u001b[0m \u001b[0;34m=\u001b[0m \u001b[0mIDEC\u001b[0m\u001b[0;34m(\u001b[0m\u001b[0mdims\u001b[0m\u001b[0;34m=\u001b[0m\u001b[0;34m[\u001b[0m\u001b[0mx\u001b[0m\u001b[0;34m.\u001b[0m\u001b[0mshape\u001b[0m\u001b[0;34m[\u001b[0m\u001b[0;34m-\u001b[0m\u001b[0;36m1\u001b[0m\u001b[0;34m]\u001b[0m\u001b[0;34m,\u001b[0m \u001b[0;36m500\u001b[0m\u001b[0;34m,\u001b[0m \u001b[0;36m500\u001b[0m\u001b[0;34m,\u001b[0m \u001b[0;36m2000\u001b[0m\u001b[0;34m,\u001b[0m \u001b[0;36m10\u001b[0m\u001b[0;34m]\u001b[0m\u001b[0;34m,\u001b[0m \u001b[0mn_clusters\u001b[0m\u001b[0;34m=\u001b[0m\u001b[0;36m2\u001b[0m\u001b[0;34m)\u001b[0m\u001b[0;34m\u001b[0m\u001b[0;34m\u001b[0m\u001b[0m\n\u001b[1;32m      8\u001b[0m     \u001b[0midec\u001b[0m\u001b[0;34m.\u001b[0m\u001b[0minitialize_model\u001b[0m\u001b[0;34m(\u001b[0m\u001b[0mae_weights\u001b[0m\u001b[0;34m=\u001b[0m\u001b[0;34m'autoencoder_weights.h5'\u001b[0m\u001b[0;34m,\u001b[0m \u001b[0mgamma\u001b[0m\u001b[0;34m=\u001b[0m\u001b[0;36m0.1\u001b[0m\u001b[0;34m,\u001b[0m \u001b[0moptimizer\u001b[0m\u001b[0;34m=\u001b[0m\u001b[0;34m'adam'\u001b[0m\u001b[0;34m)\u001b[0m\u001b[0;34m\u001b[0m\u001b[0;34m\u001b[0m\u001b[0m\n\u001b[0;32m----> 9\u001b[0;31m     \u001b[0midec\u001b[0m\u001b[0;34m.\u001b[0m\u001b[0mfit\u001b[0m\u001b[0;34m(\u001b[0m\u001b[0mx\u001b[0m\u001b[0;34m,\u001b[0m \u001b[0my\u001b[0m\u001b[0;34m=\u001b[0m\u001b[0my\u001b[0m\u001b[0;34m,\u001b[0m \u001b[0mbatch_size\u001b[0m\u001b[0;34m=\u001b[0m\u001b[0mbatch_size\u001b[0m\u001b[0;34m,\u001b[0m \u001b[0mtol\u001b[0m\u001b[0;34m=\u001b[0m\u001b[0mtol\u001b[0m\u001b[0;34m,\u001b[0m \u001b[0mmaxiter\u001b[0m\u001b[0;34m=\u001b[0m\u001b[0mmaxiter\u001b[0m\u001b[0;34m,\u001b[0m \u001b[0mupdate_interval\u001b[0m\u001b[0;34m=\u001b[0m\u001b[0mintervel\u001b[0m\u001b[0;34m,\u001b[0m \u001b[0msave_dir\u001b[0m\u001b[0;34m=\u001b[0m\u001b[0;34m'./results/idec'\u001b[0m\u001b[0;34m)\u001b[0m\u001b[0;34m\u001b[0m\u001b[0;34m\u001b[0m\u001b[0m\n\u001b[0m\u001b[1;32m     10\u001b[0m \u001b[0;34m\u001b[0m\u001b[0m\n\u001b[1;32m     11\u001b[0m     \u001b[0;31m# Show the final results\u001b[0m\u001b[0;34m\u001b[0m\u001b[0;34m\u001b[0m\u001b[0m\n",
            "\u001b[0;32m<ipython-input-14-5f4f77240be7>\u001b[0m in \u001b[0;36mfit\u001b[0;34m(self, x, y, batch_size, maxiter, tol, update_interval, save_dir)\u001b[0m\n\u001b[1;32m    128\u001b[0m                 \u001b[0mindex\u001b[0m \u001b[0;34m=\u001b[0m \u001b[0;36m0\u001b[0m\u001b[0;34m\u001b[0m\u001b[0;34m\u001b[0m\u001b[0m\n\u001b[1;32m    129\u001b[0m             \u001b[0;32melse\u001b[0m\u001b[0;34m:\u001b[0m\u001b[0;34m\u001b[0m\u001b[0;34m\u001b[0m\u001b[0m\n\u001b[0;32m--> 130\u001b[0;31m                 loss = self.model.train_on_batch(x=x[index * batch_size:(index + 1) * batch_size],\n\u001b[0m\u001b[1;32m    131\u001b[0m                                                  y=[p[index * batch_size:(index + 1) * batch_size],\n\u001b[1;32m    132\u001b[0m                                                     x[index * batch_size:(index + 1) * batch_size]])\n",
            "\u001b[0;32m/usr/local/lib/python3.10/dist-packages/keras/engine/training.py\u001b[0m in \u001b[0;36mtrain_on_batch\u001b[0;34m(self, x, y, sample_weight, class_weight, reset_metrics, return_dict)\u001b[0m\n\u001b[1;32m   2508\u001b[0m             )\n\u001b[1;32m   2509\u001b[0m             \u001b[0mself\u001b[0m\u001b[0;34m.\u001b[0m\u001b[0mtrain_function\u001b[0m \u001b[0;34m=\u001b[0m \u001b[0mself\u001b[0m\u001b[0;34m.\u001b[0m\u001b[0mmake_train_function\u001b[0m\u001b[0;34m(\u001b[0m\u001b[0;34m)\u001b[0m\u001b[0;34m\u001b[0m\u001b[0;34m\u001b[0m\u001b[0m\n\u001b[0;32m-> 2510\u001b[0;31m             \u001b[0mlogs\u001b[0m \u001b[0;34m=\u001b[0m \u001b[0mself\u001b[0m\u001b[0;34m.\u001b[0m\u001b[0mtrain_function\u001b[0m\u001b[0;34m(\u001b[0m\u001b[0miterator\u001b[0m\u001b[0;34m)\u001b[0m\u001b[0;34m\u001b[0m\u001b[0;34m\u001b[0m\u001b[0m\n\u001b[0m\u001b[1;32m   2511\u001b[0m \u001b[0;34m\u001b[0m\u001b[0m\n\u001b[1;32m   2512\u001b[0m         \u001b[0mlogs\u001b[0m \u001b[0;34m=\u001b[0m \u001b[0mtf_utils\u001b[0m\u001b[0;34m.\u001b[0m\u001b[0msync_to_numpy_or_python_type\u001b[0m\u001b[0;34m(\u001b[0m\u001b[0mlogs\u001b[0m\u001b[0;34m)\u001b[0m\u001b[0;34m\u001b[0m\u001b[0;34m\u001b[0m\u001b[0m\n",
            "\u001b[0;32m/usr/local/lib/python3.10/dist-packages/tensorflow/python/util/traceback_utils.py\u001b[0m in \u001b[0;36merror_handler\u001b[0;34m(*args, **kwargs)\u001b[0m\n\u001b[1;32m    148\u001b[0m     \u001b[0mfiltered_tb\u001b[0m \u001b[0;34m=\u001b[0m \u001b[0;32mNone\u001b[0m\u001b[0;34m\u001b[0m\u001b[0;34m\u001b[0m\u001b[0m\n\u001b[1;32m    149\u001b[0m     \u001b[0;32mtry\u001b[0m\u001b[0;34m:\u001b[0m\u001b[0;34m\u001b[0m\u001b[0;34m\u001b[0m\u001b[0m\n\u001b[0;32m--> 150\u001b[0;31m       \u001b[0;32mreturn\u001b[0m \u001b[0mfn\u001b[0m\u001b[0;34m(\u001b[0m\u001b[0;34m*\u001b[0m\u001b[0margs\u001b[0m\u001b[0;34m,\u001b[0m \u001b[0;34m**\u001b[0m\u001b[0mkwargs\u001b[0m\u001b[0;34m)\u001b[0m\u001b[0;34m\u001b[0m\u001b[0;34m\u001b[0m\u001b[0m\n\u001b[0m\u001b[1;32m    151\u001b[0m     \u001b[0;32mexcept\u001b[0m \u001b[0mException\u001b[0m \u001b[0;32mas\u001b[0m \u001b[0me\u001b[0m\u001b[0;34m:\u001b[0m\u001b[0;34m\u001b[0m\u001b[0;34m\u001b[0m\u001b[0m\n\u001b[1;32m    152\u001b[0m       \u001b[0mfiltered_tb\u001b[0m \u001b[0;34m=\u001b[0m \u001b[0m_process_traceback_frames\u001b[0m\u001b[0;34m(\u001b[0m\u001b[0me\u001b[0m\u001b[0;34m.\u001b[0m\u001b[0m__traceback__\u001b[0m\u001b[0;34m)\u001b[0m\u001b[0;34m\u001b[0m\u001b[0;34m\u001b[0m\u001b[0m\n",
            "\u001b[0;32m/usr/local/lib/python3.10/dist-packages/tensorflow/python/eager/polymorphic_function/polymorphic_function.py\u001b[0m in \u001b[0;36m__call__\u001b[0;34m(self, *args, **kwds)\u001b[0m\n\u001b[1;32m    892\u001b[0m \u001b[0;34m\u001b[0m\u001b[0m\n\u001b[1;32m    893\u001b[0m       \u001b[0;32mwith\u001b[0m \u001b[0mOptionalXlaContext\u001b[0m\u001b[0;34m(\u001b[0m\u001b[0mself\u001b[0m\u001b[0;34m.\u001b[0m\u001b[0m_jit_compile\u001b[0m\u001b[0;34m)\u001b[0m\u001b[0;34m:\u001b[0m\u001b[0;34m\u001b[0m\u001b[0;34m\u001b[0m\u001b[0m\n\u001b[0;32m--> 894\u001b[0;31m         \u001b[0mresult\u001b[0m \u001b[0;34m=\u001b[0m \u001b[0mself\u001b[0m\u001b[0;34m.\u001b[0m\u001b[0m_call\u001b[0m\u001b[0;34m(\u001b[0m\u001b[0;34m*\u001b[0m\u001b[0margs\u001b[0m\u001b[0;34m,\u001b[0m \u001b[0;34m**\u001b[0m\u001b[0mkwds\u001b[0m\u001b[0;34m)\u001b[0m\u001b[0;34m\u001b[0m\u001b[0;34m\u001b[0m\u001b[0m\n\u001b[0m\u001b[1;32m    895\u001b[0m \u001b[0;34m\u001b[0m\u001b[0m\n\u001b[1;32m    896\u001b[0m       \u001b[0mnew_tracing_count\u001b[0m \u001b[0;34m=\u001b[0m \u001b[0mself\u001b[0m\u001b[0;34m.\u001b[0m\u001b[0mexperimental_get_tracing_count\u001b[0m\u001b[0;34m(\u001b[0m\u001b[0;34m)\u001b[0m\u001b[0;34m\u001b[0m\u001b[0;34m\u001b[0m\u001b[0m\n",
            "\u001b[0;32m/usr/local/lib/python3.10/dist-packages/tensorflow/python/eager/polymorphic_function/polymorphic_function.py\u001b[0m in \u001b[0;36m_call\u001b[0;34m(self, *args, **kwds)\u001b[0m\n\u001b[1;32m    924\u001b[0m       \u001b[0;31m# In this case we have created variables on the first call, so we run the\u001b[0m\u001b[0;34m\u001b[0m\u001b[0;34m\u001b[0m\u001b[0m\n\u001b[1;32m    925\u001b[0m       \u001b[0;31m# defunned version which is guaranteed to never create variables.\u001b[0m\u001b[0;34m\u001b[0m\u001b[0;34m\u001b[0m\u001b[0m\n\u001b[0;32m--> 926\u001b[0;31m       \u001b[0;32mreturn\u001b[0m \u001b[0mself\u001b[0m\u001b[0;34m.\u001b[0m\u001b[0m_no_variable_creation_fn\u001b[0m\u001b[0;34m(\u001b[0m\u001b[0;34m*\u001b[0m\u001b[0margs\u001b[0m\u001b[0;34m,\u001b[0m \u001b[0;34m**\u001b[0m\u001b[0mkwds\u001b[0m\u001b[0;34m)\u001b[0m  \u001b[0;31m# pylint: disable=not-callable\u001b[0m\u001b[0;34m\u001b[0m\u001b[0;34m\u001b[0m\u001b[0m\n\u001b[0m\u001b[1;32m    927\u001b[0m     \u001b[0;32melif\u001b[0m \u001b[0mself\u001b[0m\u001b[0;34m.\u001b[0m\u001b[0m_variable_creation_fn\u001b[0m \u001b[0;32mis\u001b[0m \u001b[0;32mnot\u001b[0m \u001b[0;32mNone\u001b[0m\u001b[0;34m:\u001b[0m\u001b[0;34m\u001b[0m\u001b[0;34m\u001b[0m\u001b[0m\n\u001b[1;32m    928\u001b[0m       \u001b[0;31m# Release the lock early so that multiple threads can perform the call\u001b[0m\u001b[0;34m\u001b[0m\u001b[0;34m\u001b[0m\u001b[0m\n",
            "\u001b[0;32m/usr/local/lib/python3.10/dist-packages/tensorflow/python/eager/polymorphic_function/tracing_compiler.py\u001b[0m in \u001b[0;36m__call__\u001b[0;34m(self, *args, **kwargs)\u001b[0m\n\u001b[1;32m    141\u001b[0m       (concrete_function,\n\u001b[1;32m    142\u001b[0m        filtered_flat_args) = self._maybe_define_function(args, kwargs)\n\u001b[0;32m--> 143\u001b[0;31m     return concrete_function._call_flat(\n\u001b[0m\u001b[1;32m    144\u001b[0m         filtered_flat_args, captured_inputs=concrete_function.captured_inputs)  # pylint: disable=protected-access\n\u001b[1;32m    145\u001b[0m \u001b[0;34m\u001b[0m\u001b[0m\n",
            "\u001b[0;32m/usr/local/lib/python3.10/dist-packages/tensorflow/python/eager/polymorphic_function/monomorphic_function.py\u001b[0m in \u001b[0;36m_call_flat\u001b[0;34m(self, args, captured_inputs, cancellation_manager)\u001b[0m\n\u001b[1;32m   1755\u001b[0m         and executing_eagerly):\n\u001b[1;32m   1756\u001b[0m       \u001b[0;31m# No tape is watching; skip to running the function.\u001b[0m\u001b[0;34m\u001b[0m\u001b[0;34m\u001b[0m\u001b[0m\n\u001b[0;32m-> 1757\u001b[0;31m       return self._build_call_outputs(self._inference_function.call(\n\u001b[0m\u001b[1;32m   1758\u001b[0m           ctx, args, cancellation_manager=cancellation_manager))\n\u001b[1;32m   1759\u001b[0m     forward_backward = self._select_forward_and_backward_functions(\n",
            "\u001b[0;32m/usr/local/lib/python3.10/dist-packages/tensorflow/python/eager/polymorphic_function/monomorphic_function.py\u001b[0m in \u001b[0;36mcall\u001b[0;34m(self, ctx, args, cancellation_manager)\u001b[0m\n\u001b[1;32m    379\u001b[0m       \u001b[0;32mwith\u001b[0m \u001b[0m_InterpolateFunctionError\u001b[0m\u001b[0;34m(\u001b[0m\u001b[0mself\u001b[0m\u001b[0;34m)\u001b[0m\u001b[0;34m:\u001b[0m\u001b[0;34m\u001b[0m\u001b[0;34m\u001b[0m\u001b[0m\n\u001b[1;32m    380\u001b[0m         \u001b[0;32mif\u001b[0m \u001b[0mcancellation_manager\u001b[0m \u001b[0;32mis\u001b[0m \u001b[0;32mNone\u001b[0m\u001b[0;34m:\u001b[0m\u001b[0;34m\u001b[0m\u001b[0;34m\u001b[0m\u001b[0m\n\u001b[0;32m--> 381\u001b[0;31m           outputs = execute.execute(\n\u001b[0m\u001b[1;32m    382\u001b[0m               \u001b[0mstr\u001b[0m\u001b[0;34m(\u001b[0m\u001b[0mself\u001b[0m\u001b[0;34m.\u001b[0m\u001b[0msignature\u001b[0m\u001b[0;34m.\u001b[0m\u001b[0mname\u001b[0m\u001b[0;34m)\u001b[0m\u001b[0;34m,\u001b[0m\u001b[0;34m\u001b[0m\u001b[0;34m\u001b[0m\u001b[0m\n\u001b[1;32m    383\u001b[0m               \u001b[0mnum_outputs\u001b[0m\u001b[0;34m=\u001b[0m\u001b[0mself\u001b[0m\u001b[0;34m.\u001b[0m\u001b[0m_num_outputs\u001b[0m\u001b[0;34m,\u001b[0m\u001b[0;34m\u001b[0m\u001b[0;34m\u001b[0m\u001b[0m\n",
            "\u001b[0;32m/usr/local/lib/python3.10/dist-packages/tensorflow/python/eager/execute.py\u001b[0m in \u001b[0;36mquick_execute\u001b[0;34m(op_name, num_outputs, inputs, attrs, ctx, name)\u001b[0m\n\u001b[1;32m     50\u001b[0m   \u001b[0;32mtry\u001b[0m\u001b[0;34m:\u001b[0m\u001b[0;34m\u001b[0m\u001b[0;34m\u001b[0m\u001b[0m\n\u001b[1;32m     51\u001b[0m     \u001b[0mctx\u001b[0m\u001b[0;34m.\u001b[0m\u001b[0mensure_initialized\u001b[0m\u001b[0;34m(\u001b[0m\u001b[0;34m)\u001b[0m\u001b[0;34m\u001b[0m\u001b[0;34m\u001b[0m\u001b[0m\n\u001b[0;32m---> 52\u001b[0;31m     tensors = pywrap_tfe.TFE_Py_Execute(ctx._handle, device_name, op_name,\n\u001b[0m\u001b[1;32m     53\u001b[0m                                         inputs, attrs, num_outputs)\n\u001b[1;32m     54\u001b[0m   \u001b[0;32mexcept\u001b[0m \u001b[0mcore\u001b[0m\u001b[0;34m.\u001b[0m\u001b[0m_NotOkStatusException\u001b[0m \u001b[0;32mas\u001b[0m \u001b[0me\u001b[0m\u001b[0;34m:\u001b[0m\u001b[0;34m\u001b[0m\u001b[0;34m\u001b[0m\u001b[0m\n",
            "\u001b[0;31mKeyboardInterrupt\u001b[0m: "
          ]
        }
      ]
    },
    {
      "cell_type": "code",
      "source": [
        "def calculate_accuracy(arr1, arr2):\n",
        "    count = sum(1 for itr1, itr2 in zip(arr1, arr2) if itr1 == itr2)\n",
        "    return count / len(arr1)"
      ],
      "metadata": {
        "id": "Tk5LxVLl4tp4"
      },
      "execution_count": null,
      "outputs": []
    },
    {
      "cell_type": "code",
      "source": [
        "print(calculate_accuracy(y,y_pred))"
      ],
      "metadata": {
        "colab": {
          "base_uri": "https://localhost:8080/"
        },
        "id": "_s4OILOcCXy7",
        "outputId": "d85a0da5-bf27-470a-fbdb-2cd1d40a303a"
      },
      "execution_count": null,
      "outputs": [
        {
          "output_type": "stream",
          "name": "stdout",
          "text": [
            "0.5486881937436933\n"
          ]
        }
      ]
    },
    {
      "cell_type": "code",
      "source": [
        "def flip(arr):\n",
        "  result = []\n",
        "  for num in arr:\n",
        "      if num == 1:\n",
        "          result.append(0)\n",
        "      else:\n",
        "          result.append(1)\n",
        "  return result"
      ],
      "metadata": {
        "id": "bjL0RFFnCb2N"
      },
      "execution_count": null,
      "outputs": []
    },
    {
      "cell_type": "code",
      "source": [
        "y_pred_flip=flip(y_pred)"
      ],
      "metadata": {
        "id": "0N-7WPnnDRB3"
      },
      "execution_count": null,
      "outputs": []
    },
    {
      "cell_type": "code",
      "source": [
        "print(calculate_accuracy(y,y_pred_flip))"
      ],
      "metadata": {
        "colab": {
          "base_uri": "https://localhost:8080/"
        },
        "id": "JS7TlHyiDWa-",
        "outputId": "4c714716-99f6-4951-d167-c9eed069ac12"
      },
      "execution_count": null,
      "outputs": [
        {
          "output_type": "stream",
          "name": "stdout",
          "text": [
            "0.4760343087790111\n"
          ]
        }
      ]
    },
    {
      "cell_type": "code",
      "source": [
        "print(y_pred)"
      ],
      "metadata": {
        "colab": {
          "base_uri": "https://localhost:8080/"
        },
        "id": "3ua7urQtDZEx",
        "outputId": "5d48afd7-ba7d-4326-be54-0f34a12726a4"
      },
      "execution_count": null,
      "outputs": [
        {
          "output_type": "stream",
          "name": "stdout",
          "text": [
            "[0 1 0 ... 1 1 1]\n"
          ]
        }
      ]
    }
  ]
}